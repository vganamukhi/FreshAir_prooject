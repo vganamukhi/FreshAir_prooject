{
 "cells": [
  {
   "cell_type": "code",
   "execution_count": 28,
   "metadata": {},
   "outputs": [],
   "source": [
    "import pandas as pd\n",
    "import numpy as np\n",
    "from sklearn.preprocessing import StandardScaler\n",
    "from sklearn.model_selection import train_test_split\n",
    "from sklearn import svm\n",
    "from sklearn.metrics import accuracy_score\n",
    "from sklearn.metrics import confusion_matrix\n",
    "from sklearn.model_selection import RandomizedSearchCV\n",
    "from sklearn.model_selection import GridSearchCV\n",
    "from sklearn.metrics import classification_report\n",
    "from sklearn.metrics import precision_score"
   ]
  },
  {
   "cell_type": "code",
   "execution_count": 29,
   "metadata": {},
   "outputs": [
    {
     "name": "stdout",
     "output_type": "stream",
     "text": [
      "C:\\Users\\eric_\\OneDrive\\Documents\\python workbooks\\FreshAir\n"
     ]
    }
   ],
   "source": [
    "%cd \"C:\\Users\\eric_\\OneDrive\\Documents\\python workbooks\\FreshAir\""
   ]
  },
  {
   "cell_type": "code",
   "execution_count": 30,
   "metadata": {},
   "outputs": [
    {
     "data": {
      "text/plain": [
       "(19089, 238)"
      ]
     },
     "execution_count": 30,
     "metadata": {},
     "output_type": "execute_result"
    }
   ],
   "source": [
    "df_train = pd.read_csv(\"master_upsampled_balanced_training_6363.csv\")\n",
    "df_train.shape"
   ]
  },
  {
   "cell_type": "code",
   "execution_count": 31,
   "metadata": {},
   "outputs": [
    {
     "data": {
      "text/plain": [
       "(1693, 238)"
      ]
     },
     "execution_count": 31,
     "metadata": {},
     "output_type": "execute_result"
    }
   ],
   "source": [
    "df_test = pd.read_csv(\"master_test.csv\") \n",
    "df_test.shape"
   ]
  },
  {
   "cell_type": "code",
   "execution_count": 32,
   "metadata": {},
   "outputs": [
    {
     "data": {
      "text/html": [
       "<div>\n",
       "<style scoped>\n",
       "    .dataframe tbody tr th:only-of-type {\n",
       "        vertical-align: middle;\n",
       "    }\n",
       "\n",
       "    .dataframe tbody tr th {\n",
       "        vertical-align: top;\n",
       "    }\n",
       "\n",
       "    .dataframe thead th {\n",
       "        text-align: right;\n",
       "    }\n",
       "</style>\n",
       "<table border=\"1\" class=\"dataframe\">\n",
       "  <thead>\n",
       "    <tr style=\"text-align: right;\">\n",
       "      <th></th>\n",
       "      <th>CO_mean</th>\n",
       "      <th>RH_mean</th>\n",
       "      <th>TP_mean</th>\n",
       "      <th>S_mean</th>\n",
       "      <th>CO_amin</th>\n",
       "      <th>RH_amin</th>\n",
       "      <th>TP_amin</th>\n",
       "      <th>S_amin</th>\n",
       "      <th>CO_amax</th>\n",
       "      <th>RH_amax</th>\n",
       "      <th>...</th>\n",
       "      <th>TP_lag</th>\n",
       "      <th>S_lag_2</th>\n",
       "      <th>CO_lag_2</th>\n",
       "      <th>RH_lag_2</th>\n",
       "      <th>TP_lag_2</th>\n",
       "      <th>S_lag_3</th>\n",
       "      <th>CO_lag_3</th>\n",
       "      <th>RH_lag_3</th>\n",
       "      <th>TP_lag_3</th>\n",
       "      <th>y</th>\n",
       "    </tr>\n",
       "  </thead>\n",
       "  <tbody>\n",
       "    <tr>\n",
       "      <th>0</th>\n",
       "      <td>6669.542962</td>\n",
       "      <td>3073.072609</td>\n",
       "      <td>2497.080771</td>\n",
       "      <td>1.982348e+06</td>\n",
       "      <td>6637.550310</td>\n",
       "      <td>2714.999991</td>\n",
       "      <td>2343.999992</td>\n",
       "      <td>1.884263e+06</td>\n",
       "      <td>6715.147260</td>\n",
       "      <td>3359.406707</td>\n",
       "      <td>...</td>\n",
       "      <td>2496.965394</td>\n",
       "      <td>1.982562e+06</td>\n",
       "      <td>6669.584363</td>\n",
       "      <td>3073.404536</td>\n",
       "      <td>2496.831593</td>\n",
       "      <td>1.982644e+06</td>\n",
       "      <td>6669.527532</td>\n",
       "      <td>3073.572837</td>\n",
       "      <td>2496.657256</td>\n",
       "      <td>inconclusive</td>\n",
       "    </tr>\n",
       "    <tr>\n",
       "      <th>1</th>\n",
       "      <td>6425.359083</td>\n",
       "      <td>1788.479050</td>\n",
       "      <td>2252.752532</td>\n",
       "      <td>6.011676e+05</td>\n",
       "      <td>6398.646909</td>\n",
       "      <td>1348.869613</td>\n",
       "      <td>1983.194797</td>\n",
       "      <td>5.637673e+05</td>\n",
       "      <td>6455.117477</td>\n",
       "      <td>2818.000000</td>\n",
       "      <td>...</td>\n",
       "      <td>2252.466909</td>\n",
       "      <td>6.012302e+05</td>\n",
       "      <td>6425.328728</td>\n",
       "      <td>1787.900863</td>\n",
       "      <td>2252.202964</td>\n",
       "      <td>6.012556e+05</td>\n",
       "      <td>6425.313943</td>\n",
       "      <td>1787.669327</td>\n",
       "      <td>2251.960169</td>\n",
       "      <td>inconclusive</td>\n",
       "    </tr>\n",
       "    <tr>\n",
       "      <th>2</th>\n",
       "      <td>6541.614745</td>\n",
       "      <td>4962.899801</td>\n",
       "      <td>2183.334424</td>\n",
       "      <td>3.144986e+05</td>\n",
       "      <td>6524.075745</td>\n",
       "      <td>4123.770600</td>\n",
       "      <td>2110.733327</td>\n",
       "      <td>2.935320e+05</td>\n",
       "      <td>6557.872955</td>\n",
       "      <td>5847.132039</td>\n",
       "      <td>...</td>\n",
       "      <td>2183.474852</td>\n",
       "      <td>3.144946e+05</td>\n",
       "      <td>6541.587338</td>\n",
       "      <td>4960.535876</td>\n",
       "      <td>2183.608068</td>\n",
       "      <td>3.145053e+05</td>\n",
       "      <td>6541.579683</td>\n",
       "      <td>4959.740800</td>\n",
       "      <td>2183.734003</td>\n",
       "      <td>inconclusive</td>\n",
       "    </tr>\n",
       "    <tr>\n",
       "      <th>3</th>\n",
       "      <td>7368.447188</td>\n",
       "      <td>4829.144092</td>\n",
       "      <td>2476.608656</td>\n",
       "      <td>1.399103e+06</td>\n",
       "      <td>7311.656483</td>\n",
       "      <td>4194.000000</td>\n",
       "      <td>2417.999972</td>\n",
       "      <td>1.369216e+06</td>\n",
       "      <td>7383.262476</td>\n",
       "      <td>5357.295266</td>\n",
       "      <td>...</td>\n",
       "      <td>2476.663992</td>\n",
       "      <td>1.399141e+06</td>\n",
       "      <td>7368.406840</td>\n",
       "      <td>4827.103603</td>\n",
       "      <td>2476.721480</td>\n",
       "      <td>1.399165e+06</td>\n",
       "      <td>7368.389243</td>\n",
       "      <td>4826.074105</td>\n",
       "      <td>2476.779192</td>\n",
       "      <td>inconclusive</td>\n",
       "    </tr>\n",
       "    <tr>\n",
       "      <th>4</th>\n",
       "      <td>6421.503514</td>\n",
       "      <td>1345.895630</td>\n",
       "      <td>2624.230946</td>\n",
       "      <td>1.550181e+05</td>\n",
       "      <td>6380.776129</td>\n",
       "      <td>945.281608</td>\n",
       "      <td>2398.041217</td>\n",
       "      <td>1.443942e+05</td>\n",
       "      <td>6487.765589</td>\n",
       "      <td>1648.845669</td>\n",
       "      <td>...</td>\n",
       "      <td>2624.413211</td>\n",
       "      <td>1.550033e+05</td>\n",
       "      <td>6421.447245</td>\n",
       "      <td>1346.451360</td>\n",
       "      <td>2624.638818</td>\n",
       "      <td>1.549950e+05</td>\n",
       "      <td>6421.436463</td>\n",
       "      <td>1346.678099</td>\n",
       "      <td>2624.894428</td>\n",
       "      <td>inconclusive</td>\n",
       "    </tr>\n",
       "  </tbody>\n",
       "</table>\n",
       "<p>5 rows × 233 columns</p>\n",
       "</div>"
      ],
      "text/plain": [
       "       CO_mean      RH_mean      TP_mean        S_mean      CO_amin  \\\n",
       "0  6669.542962  3073.072609  2497.080771  1.982348e+06  6637.550310   \n",
       "1  6425.359083  1788.479050  2252.752532  6.011676e+05  6398.646909   \n",
       "2  6541.614745  4962.899801  2183.334424  3.144986e+05  6524.075745   \n",
       "3  7368.447188  4829.144092  2476.608656  1.399103e+06  7311.656483   \n",
       "4  6421.503514  1345.895630  2624.230946  1.550181e+05  6380.776129   \n",
       "\n",
       "       RH_amin      TP_amin        S_amin      CO_amax      RH_amax  ...  \\\n",
       "0  2714.999991  2343.999992  1.884263e+06  6715.147260  3359.406707  ...   \n",
       "1  1348.869613  1983.194797  5.637673e+05  6455.117477  2818.000000  ...   \n",
       "2  4123.770600  2110.733327  2.935320e+05  6557.872955  5847.132039  ...   \n",
       "3  4194.000000  2417.999972  1.369216e+06  7383.262476  5357.295266  ...   \n",
       "4   945.281608  2398.041217  1.443942e+05  6487.765589  1648.845669  ...   \n",
       "\n",
       "        TP_lag       S_lag_2     CO_lag_2     RH_lag_2     TP_lag_2  \\\n",
       "0  2496.965394  1.982562e+06  6669.584363  3073.404536  2496.831593   \n",
       "1  2252.466909  6.012302e+05  6425.328728  1787.900863  2252.202964   \n",
       "2  2183.474852  3.144946e+05  6541.587338  4960.535876  2183.608068   \n",
       "3  2476.663992  1.399141e+06  7368.406840  4827.103603  2476.721480   \n",
       "4  2624.413211  1.550033e+05  6421.447245  1346.451360  2624.638818   \n",
       "\n",
       "        S_lag_3     CO_lag_3     RH_lag_3     TP_lag_3             y  \n",
       "0  1.982644e+06  6669.527532  3073.572837  2496.657256  inconclusive  \n",
       "1  6.012556e+05  6425.313943  1787.669327  2251.960169  inconclusive  \n",
       "2  3.145053e+05  6541.579683  4959.740800  2183.734003  inconclusive  \n",
       "3  1.399165e+06  7368.389243  4826.074105  2476.779192  inconclusive  \n",
       "4  1.549950e+05  6421.436463  1346.678099  2624.894428  inconclusive  \n",
       "\n",
       "[5 rows x 233 columns]"
      ]
     },
     "execution_count": 32,
     "metadata": {},
     "output_type": "execute_result"
    }
   ],
   "source": [
    "df_train.drop(['Unnamed: 0', 'timestamp', 'id', 'device_id', 'review_label'], axis = 1, inplace = True)\n",
    "df_test.drop(['Unnamed: 0', 'timestamp', 'id', 'device_id', 'review_label'], axis = 1, inplace = True)\n",
    "df_train.head()"
   ]
  },
  {
   "cell_type": "code",
   "execution_count": 33,
   "metadata": {},
   "outputs": [],
   "source": [
    "df_train = df_train.replace([np.inf, -np.inf], np.nan)\n",
    "df_test = df_test.replace([np.inf, -np.inf], np.nan)\n",
    "df_train.dropna(axis = 0, inplace = True)\n",
    "df_test.dropna(axis = 0, inplace = True)"
   ]
  },
  {
   "cell_type": "code",
   "execution_count": 34,
   "metadata": {},
   "outputs": [
    {
     "data": {
      "text/plain": [
       "(12718, 233)"
      ]
     },
     "execution_count": 34,
     "metadata": {},
     "output_type": "execute_result"
    }
   ],
   "source": [
    "df_train1 = df_train[df_train.y != 'inconclusive']\n",
    "df_train1.reset_index(inplace = True, drop = True)\n",
    "df_train1.shape"
   ]
  },
  {
   "cell_type": "code",
   "execution_count": 35,
   "metadata": {},
   "outputs": [],
   "source": [
    "y_bi = df_train1['y']\n",
    "x_bi = df_train1.drop(['y'], axis = 1)"
   ]
  },
  {
   "cell_type": "code",
   "execution_count": 36,
   "metadata": {},
   "outputs": [
    {
     "data": {
      "text/plain": [
       "(12718, 232)"
      ]
     },
     "execution_count": 36,
     "metadata": {},
     "output_type": "execute_result"
    }
   ],
   "source": [
    "x_bi.shape"
   ]
  },
  {
   "cell_type": "code",
   "execution_count": 37,
   "metadata": {},
   "outputs": [],
   "source": [
    "scaler = StandardScaler() \n",
    "scaler.fit(x_bi)\n",
    "x_scaled_bi = scaler.transform(x_bi)  "
   ]
  },
  {
   "cell_type": "code",
   "execution_count": 12,
   "metadata": {},
   "outputs": [],
   "source": [
    "#x_train_f, x_test_f, y_train_f, y_test_f = train_test_split(\n",
    "#     x_scaled_full, y_full, test_size=0.1, random_state = 99)\n",
    "x_train_bi, x_test_bi, y_train_bi, y_test_bi = train_test_split(\n",
    "     x_scaled_bi, y_bi, test_size=0.1, random_state = 99)"
   ]
  },
  {
   "cell_type": "code",
   "execution_count": 26,
   "metadata": {},
   "outputs": [
    {
     "data": {
      "text/plain": [
       "GridSearchCV(cv=3, error_score=nan,\n",
       "             estimator=SVC(C=1.0, break_ties=False, cache_size=200,\n",
       "                           class_weight=None, coef0=0.0,\n",
       "                           decision_function_shape='ovo', degree=3,\n",
       "                           gamma='scale', kernel='rbf', max_iter=-1,\n",
       "                           probability=False, random_state=None, shrinking=True,\n",
       "                           tol=0.001, verbose=False),\n",
       "             iid='deprecated', n_jobs=3,\n",
       "             param_grid={'C': [1, 10, 20, 50, 100], 'degree': [1, 3, 5],\n",
       "                         'gamma': [0.0001, 0.001, 0.1, 1],\n",
       "                         'kernel': ['linear', 'poly', 'rbf', 'sigmoid']},\n",
       "             pre_dispatch='2*n_jobs', refit=True, return_train_score=False,\n",
       "             scoring=None, verbose=0)"
      ]
     },
     "execution_count": 26,
     "metadata": {},
     "output_type": "execute_result"
    }
   ],
   "source": [
    "svm_params = {\n",
    "    'kernel':['linear', 'poly', 'rbf', 'sigmoid'],\n",
    "    'gamma':[.0001,.001,0.1, 1],\n",
    "    'C':[1, 10, 20, 50, 100],\n",
    "    'degree':[1,3,5]}\n",
    "\n",
    "svm_model = svm.SVC(decision_function_shape='ovo')\n",
    "grid_score = GridSearchCV(estimator = svm_model, param_grid = svm_params, cv = 3, n_jobs = 3)\n",
    "grid_score.fit(x_scaled_bi, y_bi)"
   ]
  },
  {
   "cell_type": "code",
   "execution_count": 27,
   "metadata": {},
   "outputs": [
    {
     "name": "stdout",
     "output_type": "stream",
     "text": [
      "{'C': 100, 'degree': 1, 'gamma': 0.001, 'kernel': 'rbf'}\n",
      "0.9838912462674839\n"
     ]
    }
   ],
   "source": [
    "print(grid_score.best_params_)\n",
    "print(grid_score.best_score_)"
   ]
  },
  {
   "cell_type": "code",
   "execution_count": 38,
   "metadata": {},
   "outputs": [
    {
     "name": "stdout",
     "output_type": "stream",
     "text": [
      "C:\\Users\\eric_\\OneDrive\\Documents\\python workbooks\\FreshAir\\data\\test_data\n"
     ]
    },
    {
     "data": {
      "text/html": [
       "<div>\n",
       "<style scoped>\n",
       "    .dataframe tbody tr th:only-of-type {\n",
       "        vertical-align: middle;\n",
       "    }\n",
       "\n",
       "    .dataframe tbody tr th {\n",
       "        vertical-align: top;\n",
       "    }\n",
       "\n",
       "    .dataframe thead th {\n",
       "        text-align: right;\n",
       "    }\n",
       "</style>\n",
       "<table border=\"1\" class=\"dataframe\">\n",
       "  <thead>\n",
       "    <tr style=\"text-align: right;\">\n",
       "      <th></th>\n",
       "      <th>Unnamed: 0</th>\n",
       "      <th>CO_mean</th>\n",
       "      <th>RH_mean</th>\n",
       "      <th>TP_mean</th>\n",
       "      <th>S_mean</th>\n",
       "      <th>CO_amin</th>\n",
       "      <th>RH_amin</th>\n",
       "      <th>TP_amin</th>\n",
       "      <th>S_amin</th>\n",
       "      <th>CO_amax</th>\n",
       "      <th>...</th>\n",
       "      <th>TP_lag_2</th>\n",
       "      <th>S_lag_3</th>\n",
       "      <th>CO_lag_3</th>\n",
       "      <th>RH_lag_3</th>\n",
       "      <th>TP_lag_3</th>\n",
       "      <th>device_id</th>\n",
       "      <th>id</th>\n",
       "      <th>timestamp</th>\n",
       "      <th>review_label</th>\n",
       "      <th>y</th>\n",
       "    </tr>\n",
       "  </thead>\n",
       "  <tbody>\n",
       "    <tr>\n",
       "      <th>0</th>\n",
       "      <td>0</td>\n",
       "      <td>6842.268983</td>\n",
       "      <td>4169.768626</td>\n",
       "      <td>2572.961915</td>\n",
       "      <td>3.122835e+06</td>\n",
       "      <td>6776.747392</td>\n",
       "      <td>3931.350217</td>\n",
       "      <td>2516.643748</td>\n",
       "      <td>3.083152e+06</td>\n",
       "      <td>6898.042803</td>\n",
       "      <td>...</td>\n",
       "      <td>2573.013054</td>\n",
       "      <td>3.122703e+06</td>\n",
       "      <td>6842.139992</td>\n",
       "      <td>4170.693492</td>\n",
       "      <td>2573.032038</td>\n",
       "      <td>119220402</td>\n",
       "      <td>58366</td>\n",
       "      <td>2019-10-31 23:59:36</td>\n",
       "      <td>30</td>\n",
       "      <td>dismissed</td>\n",
       "    </tr>\n",
       "    <tr>\n",
       "      <th>1</th>\n",
       "      <td>1</td>\n",
       "      <td>6010.315363</td>\n",
       "      <td>6140.376041</td>\n",
       "      <td>2295.123608</td>\n",
       "      <td>4.698697e+05</td>\n",
       "      <td>5785.549909</td>\n",
       "      <td>5685.999996</td>\n",
       "      <td>2210.000000</td>\n",
       "      <td>4.572246e+05</td>\n",
       "      <td>6089.000025</td>\n",
       "      <td>...</td>\n",
       "      <td>2295.257507</td>\n",
       "      <td>4.697985e+05</td>\n",
       "      <td>6011.291145</td>\n",
       "      <td>6140.744937</td>\n",
       "      <td>2295.328336</td>\n",
       "      <td>118480027</td>\n",
       "      <td>58365</td>\n",
       "      <td>2019-10-31 23:59:05</td>\n",
       "      <td>30</td>\n",
       "      <td>dismissed</td>\n",
       "    </tr>\n",
       "    <tr>\n",
       "      <th>2</th>\n",
       "      <td>2</td>\n",
       "      <td>9922.644315</td>\n",
       "      <td>5415.291023</td>\n",
       "      <td>2484.306578</td>\n",
       "      <td>4.123896e+06</td>\n",
       "      <td>0.000000</td>\n",
       "      <td>5355.431521</td>\n",
       "      <td>2474.578958</td>\n",
       "      <td>4.002635e+06</td>\n",
       "      <td>22481.358586</td>\n",
       "      <td>...</td>\n",
       "      <td>2484.275579</td>\n",
       "      <td>4.123716e+06</td>\n",
       "      <td>9909.539557</td>\n",
       "      <td>5415.400294</td>\n",
       "      <td>2484.259395</td>\n",
       "      <td>118400011</td>\n",
       "      <td>58364</td>\n",
       "      <td>2019-10-31 23:57:22</td>\n",
       "      <td>30</td>\n",
       "      <td>dismissed</td>\n",
       "    </tr>\n",
       "    <tr>\n",
       "      <th>3</th>\n",
       "      <td>3</td>\n",
       "      <td>6539.605384</td>\n",
       "      <td>5525.457523</td>\n",
       "      <td>2427.543684</td>\n",
       "      <td>8.448359e+05</td>\n",
       "      <td>6526.999925</td>\n",
       "      <td>5134.000032</td>\n",
       "      <td>2360.635487</td>\n",
       "      <td>5.486377e+05</td>\n",
       "      <td>6558.550222</td>\n",
       "      <td>...</td>\n",
       "      <td>2427.140038</td>\n",
       "      <td>8.407960e+05</td>\n",
       "      <td>6539.524178</td>\n",
       "      <td>5527.623420</td>\n",
       "      <td>2426.944147</td>\n",
       "      <td>118180002</td>\n",
       "      <td>58363</td>\n",
       "      <td>2019-10-31 23:57:16</td>\n",
       "      <td>30</td>\n",
       "      <td>dismissed</td>\n",
       "    </tr>\n",
       "    <tr>\n",
       "      <th>4</th>\n",
       "      <td>4</td>\n",
       "      <td>6684.992560</td>\n",
       "      <td>4420.435466</td>\n",
       "      <td>2240.490556</td>\n",
       "      <td>4.646556e+06</td>\n",
       "      <td>6660.011712</td>\n",
       "      <td>4113.675626</td>\n",
       "      <td>2120.833898</td>\n",
       "      <td>4.618726e+06</td>\n",
       "      <td>6765.847188</td>\n",
       "      <td>...</td>\n",
       "      <td>2240.463302</td>\n",
       "      <td>4.646114e+06</td>\n",
       "      <td>6684.548108</td>\n",
       "      <td>4420.934189</td>\n",
       "      <td>2240.452508</td>\n",
       "      <td>119200181</td>\n",
       "      <td>58362</td>\n",
       "      <td>2019-10-31 23:56:37</td>\n",
       "      <td>10</td>\n",
       "      <td>inconclusive</td>\n",
       "    </tr>\n",
       "  </tbody>\n",
       "</table>\n",
       "<p>5 rows × 238 columns</p>\n",
       "</div>"
      ],
      "text/plain": [
       "   Unnamed: 0      CO_mean      RH_mean      TP_mean        S_mean  \\\n",
       "0           0  6842.268983  4169.768626  2572.961915  3.122835e+06   \n",
       "1           1  6010.315363  6140.376041  2295.123608  4.698697e+05   \n",
       "2           2  9922.644315  5415.291023  2484.306578  4.123896e+06   \n",
       "3           3  6539.605384  5525.457523  2427.543684  8.448359e+05   \n",
       "4           4  6684.992560  4420.435466  2240.490556  4.646556e+06   \n",
       "\n",
       "       CO_amin      RH_amin      TP_amin        S_amin       CO_amax  ...  \\\n",
       "0  6776.747392  3931.350217  2516.643748  3.083152e+06   6898.042803  ...   \n",
       "1  5785.549909  5685.999996  2210.000000  4.572246e+05   6089.000025  ...   \n",
       "2     0.000000  5355.431521  2474.578958  4.002635e+06  22481.358586  ...   \n",
       "3  6526.999925  5134.000032  2360.635487  5.486377e+05   6558.550222  ...   \n",
       "4  6660.011712  4113.675626  2120.833898  4.618726e+06   6765.847188  ...   \n",
       "\n",
       "      TP_lag_2       S_lag_3     CO_lag_3     RH_lag_3     TP_lag_3  \\\n",
       "0  2573.013054  3.122703e+06  6842.139992  4170.693492  2573.032038   \n",
       "1  2295.257507  4.697985e+05  6011.291145  6140.744937  2295.328336   \n",
       "2  2484.275579  4.123716e+06  9909.539557  5415.400294  2484.259395   \n",
       "3  2427.140038  8.407960e+05  6539.524178  5527.623420  2426.944147   \n",
       "4  2240.463302  4.646114e+06  6684.548108  4420.934189  2240.452508   \n",
       "\n",
       "   device_id     id            timestamp  review_label             y  \n",
       "0  119220402  58366  2019-10-31 23:59:36            30     dismissed  \n",
       "1  118480027  58365  2019-10-31 23:59:05            30     dismissed  \n",
       "2  118400011  58364  2019-10-31 23:57:22            30     dismissed  \n",
       "3  118180002  58363  2019-10-31 23:57:16            30     dismissed  \n",
       "4  119200181  58362  2019-10-31 23:56:37            10  inconclusive  \n",
       "\n",
       "[5 rows x 238 columns]"
      ]
     },
     "execution_count": 38,
     "metadata": {},
     "output_type": "execute_result"
    }
   ],
   "source": [
    "%cd \"C:\\Users\\eric_\\OneDrive\\Documents\\python workbooks\\FreshAir\\data\\test_data\"\n",
    "df2 = pd.read_csv(\"anomlies-1910-testdf.csv\")\n",
    "df2.head()"
   ]
  },
  {
   "cell_type": "code",
   "execution_count": 39,
   "metadata": {},
   "outputs": [],
   "source": [
    "\n",
    "df2.drop(['Unnamed: 0', 'timestamp', 'id', 'device_id','review_label'], axis = 1, inplace = True)\n",
    "df2 = df2.replace([np.inf, -np.inf], np.nan)\n",
    "df2.dropna(axis = 0, inplace = True)\n",
    "df2 = df2[df2.y != 'inconclusive']\n",
    "df2.reset_index(inplace = True, drop = True)\n",
    "y_bi1 = df2['y']\n",
    "x_bi1 = df2.drop(['y'], axis = 1)\n",
    "scaler = StandardScaler() \n",
    "scaler.fit(x_bi1)\n",
    "x_scaled_bi1 = scaler.transform(x_bi1) "
   ]
  },
  {
   "cell_type": "code",
   "execution_count": 40,
   "metadata": {},
   "outputs": [
    {
     "data": {
      "text/plain": [
       "(12718, 232)"
      ]
     },
     "execution_count": 40,
     "metadata": {},
     "output_type": "execute_result"
    }
   ],
   "source": [
    "x_bi.shape"
   ]
  },
  {
   "cell_type": "code",
   "execution_count": 41,
   "metadata": {},
   "outputs": [
    {
     "data": {
      "text/plain": [
       "0.9050169612569184"
      ]
     },
     "execution_count": 41,
     "metadata": {},
     "output_type": "execute_result"
    }
   ],
   "source": [
    "len((y_bi1[y_bi1 == 'dismissed']))/len(y_bi1)\n"
   ]
  },
  {
   "cell_type": "code",
   "execution_count": 42,
   "metadata": {},
   "outputs": [
    {
     "data": {
      "text/plain": [
       "0.7751294411712194"
      ]
     },
     "execution_count": 42,
     "metadata": {},
     "output_type": "execute_result"
    }
   ],
   "source": [
    "#was .76\n",
    "svm_mod = svm.SVC(decision_function_shape='ovo', C = 100,degree = 1, gamma = 0.001, kernel = 'rbf').fit(x_train_bi, y_train_bi)\n",
    "svm_pred = svm_mod.predict(x_scaled_bi1)\n",
    "accuracy_score(y_bi1, svm_pred)"
   ]
  },
  {
   "cell_type": "code",
   "execution_count": 43,
   "metadata": {},
   "outputs": [
    {
     "name": "stdout",
     "output_type": "stream",
     "text": [
      "               precision    recall  f1-score   support\n",
      "\n",
      "clear_smoking       0.30      0.99      0.46      1064\n",
      "    dismissed       1.00      0.75      0.86     10138\n",
      "\n",
      "     accuracy                           0.78     11202\n",
      "    macro avg       0.65      0.87      0.66     11202\n",
      " weighted avg       0.93      0.78      0.82     11202\n",
      "\n"
     ]
    }
   ],
   "source": [
    "print(classification_report(y_bi1, svm_pred))"
   ]
  },
  {
   "cell_type": "code",
   "execution_count": 26,
   "metadata": {},
   "outputs": [
    {
     "data": {
      "text/plain": [
       "array([[244,   0,   7],\n",
       "       [ 92,   0, 197],\n",
       "       [  8,   0, 287]], dtype=int64)"
      ]
     },
     "execution_count": 26,
     "metadata": {},
     "output_type": "execute_result"
    }
   ],
   "source": [
    "confusion_matrix(y_test_f, svm_pred, labels = ['clear_smoking', 'inconclusive','dismissed'])"
   ]
  },
  {
   "cell_type": "code",
   "execution_count": 34,
   "metadata": {},
   "outputs": [
    {
     "data": {
      "text/plain": [
       "array([[1057,    0,    7],\n",
       "       [   0,    0,    0],\n",
       "       [2736,    0, 7859]], dtype=int64)"
      ]
     },
     "execution_count": 34,
     "metadata": {},
     "output_type": "execute_result"
    }
   ],
   "source": [
    "confusion_matrix(y_bi1, svm_pred, labels = ['clear_smoking', 'inconclusive','dismissed'])"
   ]
  },
  {
   "cell_type": "code",
   "execution_count": 29,
   "metadata": {},
   "outputs": [
    {
     "data": {
      "text/plain": [
       "74       inconclusive\n",
       "413      inconclusive\n",
       "1179    clear_smoking\n",
       "6578    clear_smoking\n",
       "270      inconclusive\n",
       "dtype: object"
      ]
     },
     "execution_count": 29,
     "metadata": {},
     "output_type": "execute_result"
    }
   ],
   "source": [
    "series_pred = pd.Series(svm_pred)\n",
    "series_pred.index = y_test.index\n",
    "series_pred.head()"
   ]
  },
  {
   "cell_type": "code",
   "execution_count": 36,
   "metadata": {},
   "outputs": [
    {
     "data": {
      "text/html": [
       "<div>\n",
       "<style scoped>\n",
       "    .dataframe tbody tr th:only-of-type {\n",
       "        vertical-align: middle;\n",
       "    }\n",
       "\n",
       "    .dataframe tbody tr th {\n",
       "        vertical-align: top;\n",
       "    }\n",
       "\n",
       "    .dataframe thead th {\n",
       "        text-align: right;\n",
       "    }\n",
       "</style>\n",
       "<table border=\"1\" class=\"dataframe\">\n",
       "  <thead>\n",
       "    <tr style=\"text-align: right;\">\n",
       "      <th></th>\n",
       "      <th>y</th>\n",
       "      <th>review_label</th>\n",
       "      <th>pred</th>\n",
       "    </tr>\n",
       "  </thead>\n",
       "  <tbody>\n",
       "    <tr>\n",
       "      <th>0</th>\n",
       "      <td>inconclusive</td>\n",
       "      <td>10</td>\n",
       "      <td>inconclusive</td>\n",
       "    </tr>\n",
       "    <tr>\n",
       "      <th>1</th>\n",
       "      <td>dismissed</td>\n",
       "      <td>30</td>\n",
       "      <td>inconclusive</td>\n",
       "    </tr>\n",
       "    <tr>\n",
       "      <th>2</th>\n",
       "      <td>clear_smoking</td>\n",
       "      <td>2</td>\n",
       "      <td>clear_smoking</td>\n",
       "    </tr>\n",
       "    <tr>\n",
       "      <th>3</th>\n",
       "      <td>clear_smoking</td>\n",
       "      <td>2</td>\n",
       "      <td>clear_smoking</td>\n",
       "    </tr>\n",
       "    <tr>\n",
       "      <th>4</th>\n",
       "      <td>inconclusive</td>\n",
       "      <td>10</td>\n",
       "      <td>inconclusive</td>\n",
       "    </tr>\n",
       "  </tbody>\n",
       "</table>\n",
       "</div>"
      ],
      "text/plain": [
       "               y  review_label           pred\n",
       "0   inconclusive            10   inconclusive\n",
       "1      dismissed            30   inconclusive\n",
       "2  clear_smoking             2  clear_smoking\n",
       "3  clear_smoking             2  clear_smoking\n",
       "4   inconclusive            10   inconclusive"
      ]
     },
     "execution_count": 36,
     "metadata": {},
     "output_type": "execute_result"
    }
   ],
   "source": [
    "df99 = pd.concat([y_test, review_label, series_pred], axis = 1, join = 'inner')\n",
    "df99.rename(columns={0: 'pred'}, inplace = True)\n",
    "df99.reset_index(drop = True, inplace = True)\n",
    "df99.head()"
   ]
  },
  {
   "cell_type": "code",
   "execution_count": 38,
   "metadata": {},
   "outputs": [
    {
     "data": {
      "text/html": [
       "<div>\n",
       "<style scoped>\n",
       "    .dataframe tbody tr th:only-of-type {\n",
       "        vertical-align: middle;\n",
       "    }\n",
       "\n",
       "    .dataframe tbody tr th {\n",
       "        vertical-align: top;\n",
       "    }\n",
       "\n",
       "    .dataframe thead th {\n",
       "        text-align: right;\n",
       "    }\n",
       "</style>\n",
       "<table border=\"1\" class=\"dataframe\">\n",
       "  <thead>\n",
       "    <tr style=\"text-align: right;\">\n",
       "      <th></th>\n",
       "      <th>y</th>\n",
       "      <th>review_label</th>\n",
       "      <th>pred</th>\n",
       "      <th>correct?</th>\n",
       "    </tr>\n",
       "  </thead>\n",
       "  <tbody>\n",
       "    <tr>\n",
       "      <th>0</th>\n",
       "      <td>inconclusive</td>\n",
       "      <td>10</td>\n",
       "      <td>inconclusive</td>\n",
       "      <td>True</td>\n",
       "    </tr>\n",
       "    <tr>\n",
       "      <th>1</th>\n",
       "      <td>dismissed</td>\n",
       "      <td>30</td>\n",
       "      <td>inconclusive</td>\n",
       "      <td>False</td>\n",
       "    </tr>\n",
       "    <tr>\n",
       "      <th>2</th>\n",
       "      <td>clear_smoking</td>\n",
       "      <td>2</td>\n",
       "      <td>clear_smoking</td>\n",
       "      <td>True</td>\n",
       "    </tr>\n",
       "    <tr>\n",
       "      <th>3</th>\n",
       "      <td>clear_smoking</td>\n",
       "      <td>2</td>\n",
       "      <td>clear_smoking</td>\n",
       "      <td>True</td>\n",
       "    </tr>\n",
       "    <tr>\n",
       "      <th>4</th>\n",
       "      <td>inconclusive</td>\n",
       "      <td>10</td>\n",
       "      <td>inconclusive</td>\n",
       "      <td>True</td>\n",
       "    </tr>\n",
       "  </tbody>\n",
       "</table>\n",
       "</div>"
      ],
      "text/plain": [
       "               y  review_label           pred correct?\n",
       "0   inconclusive            10   inconclusive     True\n",
       "1      dismissed            30   inconclusive    False\n",
       "2  clear_smoking             2  clear_smoking     True\n",
       "3  clear_smoking             2  clear_smoking     True\n",
       "4   inconclusive            10   inconclusive     True"
      ]
     },
     "execution_count": 38,
     "metadata": {},
     "output_type": "execute_result"
    }
   ],
   "source": [
    "flag = []\n",
    "for i,j in enumerate(df99['y']):\n",
    "    if j == df99.loc[i,'pred']:\n",
    "        flag.append('True')\n",
    "    else:\n",
    "        flag.append('False')\n",
    "df99['correct?'] = flag\n",
    "df99.head()"
   ]
  },
  {
   "cell_type": "code",
   "execution_count": 50,
   "metadata": {},
   "outputs": [
    {
     "data": {
      "text/plain": [
       "review_label\n",
       "1      20\n",
       "2     175\n",
       "3      23\n",
       "10    177\n",
       "11      1\n",
       "13      5\n",
       "20      9\n",
       "30    193\n",
       "33      1\n",
       "36      8\n",
       "50     22\n",
       "Name: review_label, dtype: int64"
      ]
     },
     "execution_count": 50,
     "metadata": {},
     "output_type": "execute_result"
    }
   ],
   "source": [
    "df99[df99['correct?'] == 'True'].groupby('review_label')['review_label'].count()"
   ]
  },
  {
   "cell_type": "code",
   "execution_count": 49,
   "metadata": {},
   "outputs": [
    {
     "data": {
      "text/plain": [
       "review_label\n",
       "1      5\n",
       "2     26\n",
       "3      2\n",
       "10    93\n",
       "11     1\n",
       "13    12\n",
       "20    13\n",
       "30    39\n",
       "31     1\n",
       "33     4\n",
       "34     2\n",
       "35     3\n",
       "Name: review_label, dtype: int64"
      ]
     },
     "execution_count": 49,
     "metadata": {},
     "output_type": "execute_result"
    }
   ],
   "source": [
    "df99[df99['correct?'] == 'False'].groupby('review_label')['review_label'].count()"
   ]
  },
  {
   "cell_type": "code",
   "execution_count": 47,
   "metadata": {},
   "outputs": [
    {
     "data": {
      "text/plain": [
       "review_label\n",
       "1      20\n",
       "2     175\n",
       "3      23\n",
       "10    177\n",
       "11      1\n",
       "13      5\n",
       "20      9\n",
       "30    193\n",
       "33      1\n",
       "36      8\n",
       "50     22\n",
       "Name: review_label, dtype: int64"
      ]
     },
     "execution_count": 47,
     "metadata": {},
     "output_type": "execute_result"
    }
   ],
   "source": [
    "new_df.groupby('review_label')['review_label'].count()"
   ]
  },
  {
   "cell_type": "code",
   "execution_count": null,
   "metadata": {},
   "outputs": [],
   "source": []
  }
 ],
 "metadata": {
  "kernelspec": {
   "display_name": "Python 3",
   "language": "python",
   "name": "python3"
  },
  "language_info": {
   "codemirror_mode": {
    "name": "ipython",
    "version": 3
   },
   "file_extension": ".py",
   "mimetype": "text/x-python",
   "name": "python",
   "nbconvert_exporter": "python",
   "pygments_lexer": "ipython3",
   "version": "3.7.3"
  }
 },
 "nbformat": 4,
 "nbformat_minor": 4
}
