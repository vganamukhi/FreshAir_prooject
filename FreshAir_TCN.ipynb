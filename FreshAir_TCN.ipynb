{
  "nbformat": 4,
  "nbformat_minor": 0,
  "metadata": {
    "colab": {
      "name": "FreshAir_TCN.ipynb",
      "provenance": [],
      "collapsed_sections": [],
      "machine_shape": "hm"
    },
    "kernelspec": {
      "name": "python3",
      "display_name": "Python 3"
    }
  },
  "cells": [
    {
      "cell_type": "code",
      "metadata": {
        "id": "KOGPGfsj_bFH",
        "colab_type": "code",
        "outputId": "9b4dbd3e-b5e1-4864-fc5b-03ecbd78cbcd",
        "colab": {
          "base_uri": "https://localhost:8080/",
          "height": 34
        }
      },
      "source": [
        "\n",
        "import pickle as pkl\n",
        "import numpy as np\n",
        "import keras\n",
        "import boto3\n",
        "import numpy as np\n",
        "import pandas as pd\n",
        "import os\n",
        "import json\n",
        "from datetime import timedelta\n",
        "from dateutil import parser\n",
        "import boto3\n",
        "import urllib.request\n",
        "import datetime"
      ],
      "execution_count": 2,
      "outputs": [
        {
          "output_type": "stream",
          "text": [
            "Using TensorFlow backend.\n"
          ],
          "name": "stderr"
        }
      ]
    },
    {
      "cell_type": "code",
      "metadata": {
        "id": "4siMJTfuDZHP",
        "colab_type": "code",
        "colab": {}
      },
      "source": [
        "#!pip install -U -q PyDrive\n",
        "from pydrive.auth import GoogleAuth\n",
        "from pydrive.drive import GoogleDrive\n",
        "from google.colab import auth\n",
        "from oauth2client.client import GoogleCredentials\n",
        "# Authenticate and create the PyDrive client.\n",
        "auth.authenticate_user()\n",
        "gauth = GoogleAuth()\n",
        "gauth.credentials = GoogleCredentials.get_application_default()\n",
        "drive = GoogleDrive(gauth)"
      ],
      "execution_count": 0,
      "outputs": []
    },
    {
      "cell_type": "code",
      "metadata": {
        "id": "B2YjEUX6GLJj",
        "colab_type": "code",
        "colab": {}
      },
      "source": [
        "downloaded = drive.CreateFile({'id':\"1xhqQarXaEpWajnM2z48-9XUgnoIrxM5G\"})   # replace the id with id of file you want to access\n",
        "downloaded.GetContentFile('x_master.p') \n"
      ],
      "execution_count": 0,
      "outputs": []
    },
    {
      "cell_type": "code",
      "metadata": {
        "id": "rPWGDOBJWzxw",
        "colab_type": "code",
        "colab": {}
      },
      "source": [
        "downloaded2 = drive.CreateFile({'id':\"1pnyVbLd61mnMslPGYwOB-wGFmK_lJ-pb\"})   # replace the id with id of file you want to access\n",
        "downloaded2.GetContentFile('y_master.p') \n",
        "\n",
        "# https://drive.google.com/open?id=1pnyVbLd61mnMslPGYwOB-wGFmK_lJ-pb"
      ],
      "execution_count": 0,
      "outputs": []
    },
    {
      "cell_type": "code",
      "metadata": {
        "id": "5KFN6yQncVR1",
        "colab_type": "code",
        "colab": {}
      },
      "source": [
        "downloaded3 = drive.CreateFile({'id':\"1yAWKsQPmfZZ2ycmxG6NbtYkLQIqhl8MS\"})   # replace the id with id of file you want to access\n",
        "downloaded3.GetContentFile('x_test1911.p') \n",
        "\n",
        "#https://drive.google.com/open?id=1yAWKsQPmfZZ2ycmxG6NbtYkLQIqhl8MS"
      ],
      "execution_count": 0,
      "outputs": []
    },
    {
      "cell_type": "code",
      "metadata": {
        "id": "gZy6W1xLc_J1",
        "colab_type": "code",
        "colab": {}
      },
      "source": [
        "downloaded3 = drive.CreateFile({'id':\"1odizDSpF_gVc25cPYSPu3KQfvSbLgH-G\"})   # replace the id with id of file you want to access\n",
        "downloaded3.GetContentFile('y_test1911.p') \n",
        "\n",
        "#https://drive.google.com/open?id=1odizDSpF_gVc25cPYSPu3KQfvSbLgH-G"
      ],
      "execution_count": 0,
      "outputs": []
    },
    {
      "cell_type": "code",
      "metadata": {
        "id": "6qrLdsL8WTYR",
        "colab_type": "code",
        "colab": {}
      },
      "source": [
        "X = pkl.load(open(\"x_master.p\", \"rb\"))\n",
        "Y = pkl.load(open(\"y_master.p\", \"rb\"))\n",
        "x_test1911 = pkl.load(open(\"x_test1911.p\", \"rb\"))\n",
        "y_test1911 = pkl.load(open(\"y_test1911.p\", \"rb\"))"
      ],
      "execution_count": 0,
      "outputs": []
    },
    {
      "cell_type": "code",
      "metadata": {
        "id": "JYKOfiAXWmfm",
        "colab_type": "code",
        "colab": {}
      },
      "source": [
        "x_bin=[]\n",
        "y_bin=[]\n",
        "smoking_event=0\n",
        "non_smoking_event=0\n",
        "\n",
        "\n",
        "for i, y in enumerate(Y):\n",
        "  if X[i].shape == (160, 4):\n",
        "      if y in [1,2,3]:\n",
        "        y_bin.append(1)\n",
        "        x_bin.append(X[i])\n",
        "        smoking_event+=1\n",
        "      elif y >= 20:\n",
        "        y_bin.append(0)\n",
        "        x_bin.append(X[i])\n",
        "        non_smoking_event+=1\n",
        "        \n",
        "x_bin=np.array(x_bin)\n",
        "y_bin=np.array(y_bin)"
      ],
      "execution_count": 0,
      "outputs": []
    },
    {
      "cell_type": "code",
      "metadata": {
        "id": "pbHqCP7yWnud",
        "colab_type": "code",
        "colab": {}
      },
      "source": [
        "x_test1911_bin=[]\n",
        "y_test1911_bin=[]\n",
        "smoking_event=0\n",
        "non_smoking_event=0\n",
        "\n",
        "\n",
        "for i, y in enumerate(y_test1911):\n",
        "  if x_test1911[i].shape == (160, 4):\n",
        "      if y in [1,2,3]:\n",
        "        y_test1911_bin.append(1)\n",
        "        x_test1911_bin.append(x_test1911[i])\n",
        "        smoking_event+=1\n",
        "      elif y >= 20:\n",
        "        y_test1911_bin.append(0)\n",
        "        x_test1911_bin.append(x_test1911[i])\n",
        "        non_smoking_event+=1\n",
        "        \n",
        "x_test1911_bin=np.array(x_test1911_bin)\n",
        "y_test1911_bin=np.array(y_test1911_bin)"
      ],
      "execution_count": 0,
      "outputs": []
    },
    {
      "cell_type": "code",
      "metadata": {
        "id": "K4mpQTo_dkCh",
        "colab_type": "code",
        "outputId": "7ad1d63b-725d-4cf1-b37e-0fa5c5940bf4",
        "colab": {
          "base_uri": "https://localhost:8080/",
          "height": 84
        }
      },
      "source": [
        "print(x_bin.shape)\n",
        "print(y_bin.shape)\n",
        "print(x_test1911_bin.shape)\n",
        "print(y_test1911_bin.shape)"
      ],
      "execution_count": 11,
      "outputs": [
        {
          "output_type": "stream",
          "text": [
            "(83369, 160, 4)\n",
            "(83369,)\n",
            "(10908, 160, 4)\n",
            "(10908,)\n"
          ],
          "name": "stdout"
        }
      ]
    },
    {
      "cell_type": "code",
      "metadata": {
        "id": "FZEKHQtydnNL",
        "colab_type": "code",
        "colab": {}
      },
      "source": [
        "from tensorflow.keras.models import Sequential\n",
        "from tensorflow.keras.layers import Dense, Dropout, Activation, Flatten\n",
        "from tensorflow.keras.layers import Conv1D,Conv2D, MaxPooling1D\n",
        "from tensorflow.keras.callbacks import TensorBoard\n",
        "from tensorflow.keras.utils import to_categorical\n",
        "from tensorflow.keras.callbacks import EarlyStopping\n",
        "import tensorflow as tf"
      ],
      "execution_count": 0,
      "outputs": []
    },
    {
      "cell_type": "code",
      "metadata": {
        "id": "PeHYi9gwfV9K",
        "colab_type": "code",
        "outputId": "62e467c9-8866-4166-8e8e-40f5af591568",
        "colab": {
          "base_uri": "https://localhost:8080/",
          "height": 505
        }
      },
      "source": [
        "!pip install keras-tcn"
      ],
      "execution_count": 13,
      "outputs": [
        {
          "output_type": "stream",
          "text": [
            "Collecting keras-tcn\n",
            "  Downloading https://files.pythonhosted.org/packages/9f/58/9ec7417f5f58b7942b9bc6204708ca677f4eca902e4547428f468d1ee370/keras_tcn-3.1.0-py3-none-any.whl\n",
            "Requirement already satisfied: numpy>=1.18.1 in /usr/local/lib/python3.6/dist-packages (from keras-tcn) (1.18.3)\n",
            "Requirement already satisfied: keras>=2.3.1 in /usr/local/lib/python3.6/dist-packages (from keras-tcn) (2.3.1)\n",
            "Collecting gast==0.2.2\n",
            "  Downloading https://files.pythonhosted.org/packages/4e/35/11749bf99b2d4e3cceb4d55ca22590b0d7c2c62b9de38ac4a4a7f4687421/gast-0.2.2.tar.gz\n",
            "Requirement already satisfied: keras-applications>=1.0.6 in /usr/local/lib/python3.6/dist-packages (from keras>=2.3.1->keras-tcn) (1.0.8)\n",
            "Requirement already satisfied: scipy>=0.14 in /usr/local/lib/python3.6/dist-packages (from keras>=2.3.1->keras-tcn) (1.4.1)\n",
            "Requirement already satisfied: h5py in /usr/local/lib/python3.6/dist-packages (from keras>=2.3.1->keras-tcn) (2.10.0)\n",
            "Requirement already satisfied: pyyaml in /usr/local/lib/python3.6/dist-packages (from keras>=2.3.1->keras-tcn) (3.13)\n",
            "Requirement already satisfied: keras-preprocessing>=1.0.5 in /usr/local/lib/python3.6/dist-packages (from keras>=2.3.1->keras-tcn) (1.1.0)\n",
            "Requirement already satisfied: six>=1.9.0 in /usr/local/lib/python3.6/dist-packages (from keras>=2.3.1->keras-tcn) (1.12.0)\n",
            "Building wheels for collected packages: gast\n",
            "  Building wheel for gast (setup.py) ... \u001b[?25l\u001b[?25hdone\n",
            "  Created wheel for gast: filename=gast-0.2.2-cp36-none-any.whl size=7540 sha256=5e357d6728eb9ed8ebeb88a629327dcaf0dc41cb957e9ba9780a82068f4f36ec\n",
            "  Stored in directory: /root/.cache/pip/wheels/5c/2e/7e/a1d4d4fcebe6c381f378ce7743a3ced3699feb89bcfbdadadd\n",
            "Successfully built gast\n",
            "\u001b[31mERROR: tensorflow 2.2.0rc3 has requirement gast==0.3.3, but you'll have gast 0.2.2 which is incompatible.\u001b[0m\n",
            "\u001b[31mERROR: tensorflow-probability 0.10.0rc0 has requirement gast>=0.3.2, but you'll have gast 0.2.2 which is incompatible.\u001b[0m\n",
            "Installing collected packages: gast, keras-tcn\n",
            "  Found existing installation: gast 0.3.3\n",
            "    Uninstalling gast-0.3.3:\n",
            "      Successfully uninstalled gast-0.3.3\n",
            "Successfully installed gast-0.2.2 keras-tcn-3.1.0\n"
          ],
          "name": "stdout"
        },
        {
          "output_type": "display_data",
          "data": {
            "application/vnd.colab-display-data+json": {
              "pip_warning": {
                "packages": [
                  "gast"
                ]
              }
            }
          },
          "metadata": {
            "tags": []
          }
        }
      ]
    },
    {
      "cell_type": "code",
      "metadata": {
        "id": "TmZlNQqodqdL",
        "colab_type": "code",
        "outputId": "24f2b990-ede2-41dd-9b51-c1360d833d61",
        "colab": {
          "base_uri": "https://localhost:8080/",
          "height": 487
        }
      },
      "source": [
        "from tensorflow.keras.layers import Dense\n",
        "from tensorflow.keras import Input, Model\n",
        "from sklearn.utils import class_weight\n",
        "\n",
        "from tcn import TCN, tcn_full_summary\n",
        "\n",
        "batch_size, timesteps, input_dim = None, 160, 4\n",
        "\n",
        "\n",
        "def get_x_y(size=1000):\n",
        "    import numpy as np\n",
        "    pos_indices = np.random.choice(size, size=int(size // 2), replace=False)\n",
        "    x_train = np.zeros(shape=(size, timesteps, 1))\n",
        "    y_train = np.zeros(shape=(size, 1))\n",
        "    x_train[pos_indices, 0] = 1.0\n",
        "    y_train[pos_indices, 0] = 1.0\n",
        "    return x_train, y_train\n",
        "\n",
        "\n",
        "i = Input(batch_shape=(batch_size, timesteps, input_dim))\n",
        "\n",
        "\n",
        "\n",
        "o = TCN(return_sequences=True)(i)  # The TCN layers are here.\n",
        "#o = TCN(return_sequences=False)(o)\n",
        "#o = Conv1D(filters=128,activation = 'relu', kernel_size=3)(o)\n",
        "#o = LayerNormalization()(o)\n",
        "#o = Dropout(0.1)(o)\n",
        "#o = Dense(64)(o)\n",
        "#o = Dense(32)(o)\n",
        "o = Dense(64, activation='relu')(o)\n",
        "o = Dense(1, activation='sigmoid')(o)\n",
        "\n",
        "#variable = {1:30, 0:1}\n",
        "\n",
        "m = Model(inputs=[i], outputs=[o])\n",
        "#m.compile(optimizer='adam', loss='mse')\n",
        "m.compile(optimizer='adam', loss='binary_crossentropy', metrics = ['accuracy'])\n",
        "\n",
        "tcn_full_summary(m, expand_residual_blocks=False)"
      ],
      "execution_count": 14,
      "outputs": [
        {
          "output_type": "stream",
          "text": [
            "Model: \"model\"\n",
            "_________________________________________________________________\n",
            "Layer (type)                 Output Shape              Param #   \n",
            "=================================================================\n",
            "input_1 (InputLayer)         [(None, 160, 4)]          0         \n",
            "_________________________________________________________________\n",
            "residual_block_0 (ResidualBl [(None, 160, 64), (None,  9152      \n",
            "_________________________________________________________________\n",
            "residual_block_1 (ResidualBl [(None, 160, 64), (None,  16512     \n",
            "_________________________________________________________________\n",
            "residual_block_2 (ResidualBl [(None, 160, 64), (None,  16512     \n",
            "_________________________________________________________________\n",
            "residual_block_3 (ResidualBl [(None, 160, 64), (None,  16512     \n",
            "_________________________________________________________________\n",
            "residual_block_4 (ResidualBl [(None, 160, 64), (None,  16512     \n",
            "_________________________________________________________________\n",
            "residual_block_5 (ResidualBl [(None, 160, 64), (None,  16512     \n",
            "_________________________________________________________________\n",
            "lambda (Lambda)              multiple                  0         \n",
            "_________________________________________________________________\n",
            "dense (Dense)                (None, 160, 64)           4160      \n",
            "_________________________________________________________________\n",
            "dense_1 (Dense)              (None, 160, 1)            65        \n",
            "=================================================================\n",
            "Total params: 95,937\n",
            "Trainable params: 95,937\n",
            "Non-trainable params: 0\n",
            "_________________________________________________________________\n"
          ],
          "name": "stdout"
        }
      ]
    },
    {
      "cell_type": "code",
      "metadata": {
        "id": "ODvdGozVVFqt",
        "colab_type": "code",
        "colab": {
          "base_uri": "https://localhost:8080/",
          "height": 353
        },
        "outputId": "7c9a5679-0a97-4533-b344-45306163907a"
      },
      "source": [
        "from tensorflow.keras.layers import Conv1D,Conv2D, MaxPooling1D, Flatten\n",
        "from tensorflow.keras.models import Sequential\n",
        "\n",
        "model = Sequential()\n",
        "model.add(Conv1D(filters=64, kernel_size=3, activation='relu', input_shape=(x_bin.shape[1],x_bin.shape[2])))\n",
        "model.add(TCN(nb_filters=64,\n",
        "              kernel_size=3,\n",
        "              dilations=[1, 2, 4, 8, 16, 32, 64], \n",
        "              activation='relu',\n",
        "              kernel_initializer='he_normal',))\n",
        "model.add(Dropout(0.1))\n",
        "#model.add(Conv1D(filters=128, kernel_size=3, activation='relu'))\n",
        "model.add(Flatten())\n",
        "model.add(Dense(32, activation='relu'))\n",
        "model.add(Dense(1, activation='sigmoid'))\n",
        "model.compile(optimizer='adam', loss='binary_crossentropy', metrics = ['accuracy'])\n",
        "\n",
        "\n",
        "model.summary()"
      ],
      "execution_count": 16,
      "outputs": [
        {
          "output_type": "stream",
          "text": [
            "Model: \"sequential_1\"\n",
            "_________________________________________________________________\n",
            "Layer (type)                 Output Shape              Param #   \n",
            "=================================================================\n",
            "conv1d_2 (Conv1D)            (None, 158, 64)           832       \n",
            "_________________________________________________________________\n",
            "tcn_2 (TCN)                  (None, 64)                172928    \n",
            "_________________________________________________________________\n",
            "dropout_1 (Dropout)          (None, 64)                0         \n",
            "_________________________________________________________________\n",
            "flatten (Flatten)            (None, 64)                0         \n",
            "_________________________________________________________________\n",
            "dense_2 (Dense)              (None, 32)                2080      \n",
            "_________________________________________________________________\n",
            "dense_3 (Dense)              (None, 1)                 33        \n",
            "=================================================================\n",
            "Total params: 175,873\n",
            "Trainable params: 175,873\n",
            "Non-trainable params: 0\n",
            "_________________________________________________________________\n"
          ],
          "name": "stdout"
        }
      ]
    },
    {
      "cell_type": "code",
      "metadata": {
        "id": "Mmc-02TJXWGr",
        "colab_type": "code",
        "colab": {
          "base_uri": "https://localhost:8080/",
          "height": 34
        },
        "outputId": "ab8a76aa-633e-470e-831a-7be3a52bb231"
      },
      "source": [
        "print(\"%s: %.2f%%\" % (model.metrics_names[1], scores_model_seq[1]*100))"
      ],
      "execution_count": 25,
      "outputs": [
        {
          "output_type": "stream",
          "text": [
            "accuracy: 95.88%\n"
          ],
          "name": "stdout"
        }
      ]
    },
    {
      "cell_type": "code",
      "metadata": {
        "id": "NhXA3LYmUiXH",
        "colab_type": "code",
        "colab": {
          "base_uri": "https://localhost:8080/",
          "height": 50
        },
        "outputId": "b475f1e6-0443-4e0c-9c0c-d101851e58f5"
      },
      "source": [
        "history = model.fit(x_bin, y_bin, validation_data=(x_test1911_bin, y_test1911_bin), epochs=10,verbose=0)\n",
        "scores_model_seq = model.evaluate(x_test1911_bin, y_test1911_bin)\n",
        "print(\"%s: %.2f%%\" % (model.metrics_names[1], scores_model_seq[1]*100))"
      ],
      "execution_count": 17,
      "outputs": [
        {
          "output_type": "stream",
          "text": [
            "341/341 [==============================] - 15s 45ms/step - loss: 0.1294 - accuracy: 0.9588\n",
            "accuracy: 95.88%\n"
          ],
          "name": "stdout"
        }
      ]
    },
    {
      "cell_type": "code",
      "metadata": {
        "id": "6IaW9SUBJr3o",
        "colab_type": "code",
        "colab": {
          "base_uri": "https://localhost:8080/",
          "height": 87
        },
        "outputId": "60feb06e-6f60-4a2d-8c52-b8b8467c616c"
      },
      "source": [
        "prediction_y  = model.predict_classes(x_test1911_bin)"
      ],
      "execution_count": 18,
      "outputs": [
        {
          "output_type": "stream",
          "text": [
            "WARNING:tensorflow:From <ipython-input-18-b9aa84df6b26>:1: Sequential.predict_classes (from tensorflow.python.keras.engine.sequential) is deprecated and will be removed after 2021-01-01.\n",
            "Instructions for updating:\n",
            "Please use instead:* `np.argmax(model.predict(x), axis=-1)`,   if your model does multi-class classification   (e.g. if it uses a `softmax` last-layer activation).* `(model.predict(x) > 0.5).astype(\"int32\")`,   if your model does binary classification   (e.g. if it uses a `sigmoid` last-layer activation).\n"
          ],
          "name": "stdout"
        }
      ]
    },
    {
      "cell_type": "code",
      "metadata": {
        "id": "vp3An4RurBHd",
        "colab_type": "code",
        "colab": {
          "base_uri": "https://localhost:8080/",
          "height": 168
        },
        "outputId": "a4c8939d-edb0-49cc-cbc2-933c39723566"
      },
      "source": [
        "from sklearn.metrics import classification_report, f1_score\n",
        "print(classification_report(y_test1911_bin,prediction_y))"
      ],
      "execution_count": 19,
      "outputs": [
        {
          "output_type": "stream",
          "text": [
            "              precision    recall  f1-score   support\n",
            "\n",
            "           0       0.97      0.99      0.98     10188\n",
            "           1       0.77      0.54      0.64       720\n",
            "\n",
            "    accuracy                           0.96     10908\n",
            "   macro avg       0.87      0.77      0.81     10908\n",
            "weighted avg       0.95      0.96      0.96     10908\n",
            "\n"
          ],
          "name": "stdout"
        }
      ]
    },
    {
      "cell_type": "code",
      "metadata": {
        "id": "YSfNIwzHyiwG",
        "colab_type": "code",
        "colab": {}
      },
      "source": [
        "model.save(\"Model_TCN_freshAir.h5\")"
      ],
      "execution_count": 0,
      "outputs": []
    },
    {
      "cell_type": "code",
      "metadata": {
        "id": "8-ct9xNOMD92",
        "colab_type": "code",
        "colab": {
          "base_uri": "https://localhost:8080/",
          "height": 121
        },
        "outputId": "f7bf5b25-6530-494d-bf96-613c1f01ef4f"
      },
      "source": [
        "from google.colab import drive\n",
        "drive.mount('/content/drive')"
      ],
      "execution_count": 23,
      "outputs": [
        {
          "output_type": "stream",
          "text": [
            "Go to this URL in a browser: https://accounts.google.com/o/oauth2/auth?client_id=947318989803-6bn6qk8qdgf4n4g3pfee6491hc0brc4i.apps.googleusercontent.com&redirect_uri=urn%3aietf%3awg%3aoauth%3a2.0%3aoob&response_type=code&scope=email%20https%3a%2f%2fwww.googleapis.com%2fauth%2fdocs.test%20https%3a%2f%2fwww.googleapis.com%2fauth%2fdrive%20https%3a%2f%2fwww.googleapis.com%2fauth%2fdrive.photos.readonly%20https%3a%2f%2fwww.googleapis.com%2fauth%2fpeopleapi.readonly\n",
            "\n",
            "Enter your authorization code:\n",
            "··········\n",
            "Mounted at /content/drive\n"
          ],
          "name": "stdout"
        }
      ]
    },
    {
      "cell_type": "code",
      "metadata": {
        "id": "zmYyO5j0Odq6",
        "colab_type": "code",
        "colab": {}
      },
      "source": [
        "downloaded6 = drive.CreateFile({'id':\"1QUowiiO_1UoFMv6r1tENHJwU218fwJjt\"})   # replace the id with id of file you want to access\n",
        "downloaded6.GetContentFile('x_test.p') \n",
        "\n",
        "#https://drive.google.com/open?id=1QUowiiO_1UoFMv6r1tENHJwU218fwJjt"
      ],
      "execution_count": 0,
      "outputs": []
    },
    {
      "cell_type": "code",
      "metadata": {
        "id": "OINM2p6uOwAf",
        "colab_type": "code",
        "colab": {}
      },
      "source": [
        "downloaded7 = drive.CreateFile({'id':\"1vC76GTPUy9HHzVPYKVwL7IvemWecesC9\"})   # replace the id with id of file you want to access\n",
        "downloaded7.GetContentFile('y_test.p') \n",
        "\n",
        "#https://drive.google.com/open?id=1vC76GTPUy9HHzVPYKVwL7IvemWecesC9"
      ],
      "execution_count": 0,
      "outputs": []
    },
    {
      "cell_type": "code",
      "metadata": {
        "id": "GTSqq19APO6C",
        "colab_type": "code",
        "colab": {}
      },
      "source": [
        "x_test1910 = pkl.load(open(\"x_test.p\", \"rb\"))\n",
        "y_test1910 = pkl.load(open(\"y_test.p\", \"rb\"))"
      ],
      "execution_count": 0,
      "outputs": []
    },
    {
      "cell_type": "code",
      "metadata": {
        "id": "PV3oNj4xPr8N",
        "colab_type": "code",
        "colab": {}
      },
      "source": [
        "x_test1910_bin=[]\n",
        "y_test1910_bin=[]\n",
        "smoking_event=0\n",
        "non_smoking_event=0\n",
        "\n",
        "\n",
        "for i, y in enumerate(y_test1910):\n",
        "  if x_test1910[i].shape == (160, 4):\n",
        "      if y in [1,2,3]:\n",
        "        y_test1910_bin.append(1)\n",
        "        x_test1910_bin.append(x_test1910[i])\n",
        "        smoking_event+=1\n",
        "      elif y >= 20:\n",
        "        y_test1910_bin.append(0)\n",
        "        x_test1910_bin.append(x_test1910[i])\n",
        "        non_smoking_event+=1\n",
        "        \n",
        "x_test1910_bin=np.array(x_test1910_bin)\n",
        "y_test1910_bin=np.array(y_test1910_bin)"
      ],
      "execution_count": 0,
      "outputs": []
    },
    {
      "cell_type": "code",
      "metadata": {
        "id": "UHcVhneyMnEc",
        "colab_type": "code",
        "colab": {}
      },
      "source": [
        "\n",
        "#save model in json format\n",
        "\n",
        "from tensorflow.keras.models import Sequential, model_from_json\n",
        "\n",
        "TCN_model_as_json = model.to_json()\n",
        "with open(r'model.json', \"w\") as json_file:\n",
        "    json_file.write(TCN_model_as_json)\n",
        "# save weights to file (for this format, need h5py installed)\n",
        "model.save_weights('weights.h5')"
      ],
      "execution_count": 0,
      "outputs": []
    },
    {
      "cell_type": "code",
      "metadata": {
        "id": "aM4_iOdxMtFT",
        "colab_type": "code",
        "colab": {}
      },
      "source": [
        "# relaoding the saved model\n",
        "import json\n",
        "\n",
        "loaded_json = open(r'model.json', 'r').read()\n",
        "reloaded_model = model_from_json(loaded_json, custom_objects={'TCN': TCN})\n",
        "reloaded_model.load_weights(r'weights.h5')"
      ],
      "execution_count": 0,
      "outputs": []
    },
    {
      "cell_type": "code",
      "metadata": {
        "id": "L9wLk2CGMy20",
        "colab_type": "code",
        "colab": {
          "base_uri": "https://localhost:8080/",
          "height": 588
        },
        "outputId": "f1c7391b-669d-4d5a-d8b2-9193cc9c57aa"
      },
      "source": [
        "tcn_full_summary(reloaded_model, expand_residual_blocks=False)"
      ],
      "execution_count": 44,
      "outputs": [
        {
          "output_type": "stream",
          "text": [
            "Model: \"sequential_1\"\n",
            "_________________________________________________________________\n",
            "Layer (type)                 Output Shape              Param #   \n",
            "=================================================================\n",
            "conv1d_2 (Conv1D)            (None, 158, 64)           832       \n",
            "_________________________________________________________________\n",
            "residual_block_0 (ResidualBl [(None, 158, 64), (None,  24704     \n",
            "_________________________________________________________________\n",
            "residual_block_1 (ResidualBl [(None, 158, 64), (None,  24704     \n",
            "_________________________________________________________________\n",
            "residual_block_2 (ResidualBl [(None, 158, 64), (None,  24704     \n",
            "_________________________________________________________________\n",
            "residual_block_3 (ResidualBl [(None, 158, 64), (None,  24704     \n",
            "_________________________________________________________________\n",
            "residual_block_4 (ResidualBl [(None, 158, 64), (None,  24704     \n",
            "_________________________________________________________________\n",
            "residual_block_5 (ResidualBl [(None, 158, 64), (None,  24704     \n",
            "_________________________________________________________________\n",
            "residual_block_6 (ResidualBl [(None, 158, 64), (None,  24704     \n",
            "_________________________________________________________________\n",
            "lambda_7 (Lambda)            (None, 64)                0         \n",
            "_________________________________________________________________\n",
            "dropout_1 (Dropout)          (None, 64)                0         \n",
            "_________________________________________________________________\n",
            "flatten (Flatten)            (None, 64)                0         \n",
            "_________________________________________________________________\n",
            "dense_2 (Dense)              (None, 32)                2080      \n",
            "_________________________________________________________________\n",
            "dense_3 (Dense)              (None, 1)                 33        \n",
            "=================================================================\n",
            "Total params: 175,873\n",
            "Trainable params: 175,873\n",
            "Non-trainable params: 0\n",
            "_________________________________________________________________\n"
          ],
          "name": "stdout"
        }
      ]
    },
    {
      "cell_type": "code",
      "metadata": {
        "id": "N-tBtxPKM5ZM",
        "colab_type": "code",
        "colab": {}
      },
      "source": [
        "reload_pred_y = reloaded_model.predict_classes(x_test1910_bin)"
      ],
      "execution_count": 0,
      "outputs": []
    },
    {
      "cell_type": "code",
      "metadata": {
        "id": "PdFM5ewBNY3j",
        "colab_type": "code",
        "colab": {
          "base_uri": "https://localhost:8080/",
          "height": 168
        },
        "outputId": "bad6ef1a-e0e9-4460-836d-ab13df1440c3"
      },
      "source": [
        "#relaoded model reults\n",
        "print(classification_report(y_test1910_bin,reload_pred_y))"
      ],
      "execution_count": 52,
      "outputs": [
        {
          "output_type": "stream",
          "text": [
            "              precision    recall  f1-score   support\n",
            "\n",
            "           0       0.96      0.99      0.97     10591\n",
            "           1       0.81      0.55      0.66      1064\n",
            "\n",
            "    accuracy                           0.95     11655\n",
            "   macro avg       0.88      0.77      0.81     11655\n",
            "weighted avg       0.94      0.95      0.94     11655\n",
            "\n"
          ],
          "name": "stdout"
        }
      ]
    },
    {
      "cell_type": "code",
      "metadata": {
        "id": "OH0i022pNohG",
        "colab_type": "code",
        "colab": {
          "base_uri": "https://localhost:8080/",
          "height": 34
        },
        "outputId": "f74ece99-4e01-4a98-a957-6199fca4cdd7"
      },
      "source": [
        "reload_pred_y.shape"
      ],
      "execution_count": 50,
      "outputs": [
        {
          "output_type": "execute_result",
          "data": {
            "text/plain": [
              "(11655, 1)"
            ]
          },
          "metadata": {
            "tags": []
          },
          "execution_count": 50
        }
      ]
    },
    {
      "cell_type": "code",
      "metadata": {
        "id": "_K3T0Xn7QjEL",
        "colab_type": "code",
        "colab": {}
      },
      "source": [
        "prediction_y_1910  = model.predict_classes(x_test1910_bin)"
      ],
      "execution_count": 0,
      "outputs": []
    },
    {
      "cell_type": "code",
      "metadata": {
        "id": "cSKg52FcQ2x-",
        "colab_type": "code",
        "colab": {
          "base_uri": "https://localhost:8080/",
          "height": 34
        },
        "outputId": "ec674cfd-f629-4eec-c481-4b138fc8cdbb"
      },
      "source": [
        "y_test1910_bin.shape"
      ],
      "execution_count": 51,
      "outputs": [
        {
          "output_type": "execute_result",
          "data": {
            "text/plain": [
              "(11655,)"
            ]
          },
          "metadata": {
            "tags": []
          },
          "execution_count": 51
        }
      ]
    },
    {
      "cell_type": "code",
      "metadata": {
        "id": "H9PRYR7eQvxd",
        "colab_type": "code",
        "colab": {
          "base_uri": "https://localhost:8080/",
          "height": 168
        },
        "outputId": "5df42ac0-c6b6-43b4-bb19-9811b8faafc9"
      },
      "source": [
        "print(classification_report(y_test1910_bin,prediction_y_1910))"
      ],
      "execution_count": 36,
      "outputs": [
        {
          "output_type": "stream",
          "text": [
            "              precision    recall  f1-score   support\n",
            "\n",
            "           0       0.96      0.99      0.97     10591\n",
            "           1       0.81      0.55      0.66      1064\n",
            "\n",
            "    accuracy                           0.95     11655\n",
            "   macro avg       0.88      0.77      0.81     11655\n",
            "weighted avg       0.94      0.95      0.94     11655\n",
            "\n"
          ],
          "name": "stdout"
        }
      ]
    },
    {
      "cell_type": "code",
      "metadata": {
        "id": "9hM2VbbOSxP_",
        "colab_type": "code",
        "colab": {
          "base_uri": "https://localhost:8080/",
          "height": 386
        },
        "outputId": "74af3686-6e37-4c1b-9d50-21078106d3d4"
      },
      "source": [
        "model2 = Sequential()\n",
        "model2.add(Conv1D(filters=128, kernel_size=3, activation='relu', input_shape=(x_bin.shape[1],x_bin.shape[2])))\n",
        "\n",
        "model2.add(TCN(nb_filters=128,\n",
        "              kernel_size=3,\n",
        "              dilations=[1, 2, 4, 8, 16, 32, 64], \n",
        "              activation='relu',\n",
        "              kernel_initializer='he_normal',))\n",
        "model2.add(Dropout(0.1))\n",
        "#model2.add(Conv1D(filters=128, kernel_size=3, activation='relu'))\n",
        "model2.add(Flatten())\n",
        "model2.add(Dense(64, activation='relu'))\n",
        "model2.add(Dense(32, activation='relu'))\n",
        "model2.add(Dense(1, activation='sigmoid'))\n",
        "model2.compile(optimizer='adam', loss='binary_crossentropy', metrics = ['accuracy'])\n",
        "\n",
        "\n",
        "model2.summary()"
      ],
      "execution_count": 40,
      "outputs": [
        {
          "output_type": "stream",
          "text": [
            "Model: \"sequential_5\"\n",
            "_________________________________________________________________\n",
            "Layer (type)                 Output Shape              Param #   \n",
            "=================================================================\n",
            "conv1d_6 (Conv1D)            (None, 158, 128)          1664      \n",
            "_________________________________________________________________\n",
            "tcn_9 (TCN)                  (None, 128)               689920    \n",
            "_________________________________________________________________\n",
            "dropout_2 (Dropout)          (None, 128)               0         \n",
            "_________________________________________________________________\n",
            "flatten_1 (Flatten)          (None, 128)               0         \n",
            "_________________________________________________________________\n",
            "dense_4 (Dense)              (None, 64)                8256      \n",
            "_________________________________________________________________\n",
            "dense_5 (Dense)              (None, 32)                2080      \n",
            "_________________________________________________________________\n",
            "dense_6 (Dense)              (None, 1)                 33        \n",
            "=================================================================\n",
            "Total params: 701,953\n",
            "Trainable params: 701,953\n",
            "Non-trainable params: 0\n",
            "_________________________________________________________________\n"
          ],
          "name": "stdout"
        }
      ]
    },
    {
      "cell_type": "code",
      "metadata": {
        "id": "qGJtPTRpTsqs",
        "colab_type": "code",
        "colab": {
          "base_uri": "https://localhost:8080/",
          "height": 50
        },
        "outputId": "58e198ca-0982-4cf1-d4e8-41a463709c3d"
      },
      "source": [
        "history = model2.fit(x_bin, y_bin, validation_data=(x_test1911_bin, y_test1911_bin), epochs=10,verbose=0)\n",
        "scores_model_seq2 = model2.evaluate(x_test1911_bin, y_test1911_bin)\n",
        "print(\"%s: %.2f%%\" % (model2.metrics_names[1], scores_model_seq2[1]*100))"
      ],
      "execution_count": 41,
      "outputs": [
        {
          "output_type": "stream",
          "text": [
            "341/341 [==============================] - 36s 107ms/step - loss: 0.1223 - accuracy: 0.9573\n",
            "accuracy: 95.73%\n"
          ],
          "name": "stdout"
        }
      ]
    },
    {
      "cell_type": "code",
      "metadata": {
        "id": "jkw4jAz9AsD9",
        "colab_type": "code",
        "colab": {
          "base_uri": "https://localhost:8080/",
          "height": 840
        },
        "outputId": "64f74ae8-7ed6-46a5-faa4-87c8e667d277"
      },
      "source": [
        "pred_y"
      ],
      "execution_count": 18,
      "outputs": [
        {
          "output_type": "execute_result",
          "data": {
            "text/plain": [
              "array([[[5.59951663e-02],\n",
              "        [3.46069336e-02],\n",
              "        [4.55340743e-02],\n",
              "        ...,\n",
              "        [9.40599322e-01],\n",
              "        [9.39576507e-01],\n",
              "        [9.39603686e-01]],\n",
              "\n",
              "       [[9.22623277e-02],\n",
              "        [1.13067538e-01],\n",
              "        [1.17221296e-01],\n",
              "        ...,\n",
              "        [8.90118718e-01],\n",
              "        [8.72622192e-01],\n",
              "        [8.18548203e-01]],\n",
              "\n",
              "       [[2.52202570e-01],\n",
              "        [2.12323606e-01],\n",
              "        [3.51065606e-01],\n",
              "        ...,\n",
              "        [4.29025143e-01],\n",
              "        [3.23843837e-01],\n",
              "        [2.52877235e-01]],\n",
              "\n",
              "       ...,\n",
              "\n",
              "       [[2.76222825e-03],\n",
              "        [1.17334723e-03],\n",
              "        [2.60937214e-03],\n",
              "        ...,\n",
              "        [1.23402476e-03],\n",
              "        [2.11334229e-03],\n",
              "        [1.24052167e-03]],\n",
              "\n",
              "       [[6.37233257e-04],\n",
              "        [1.10438466e-03],\n",
              "        [1.33287907e-03],\n",
              "        ...,\n",
              "        [5.65600224e-08],\n",
              "        [2.81003452e-07],\n",
              "        [2.59424127e-07]],\n",
              "\n",
              "       [[2.16230750e-03],\n",
              "        [8.08775425e-04],\n",
              "        [3.58223915e-04],\n",
              "        ...,\n",
              "        [4.27717277e-05],\n",
              "        [2.56264138e-05],\n",
              "        [3.94295494e-05]]], dtype=float32)"
            ]
          },
          "metadata": {
            "tags": []
          },
          "execution_count": 18
        }
      ]
    },
    {
      "cell_type": "code",
      "metadata": {
        "id": "L2hcCGnVdwFC",
        "colab_type": "code",
        "outputId": "20847107-cd1f-44a4-8cd3-71c23340bb96",
        "colab": {
          "base_uri": "https://localhost:8080/",
          "height": 50
        }
      },
      "source": [
        ".# 1 TCN layer\n",
        "history = m.fit(x_bin, y_bin, validation_data=(x_test1911_bin, y_test1911_bin), epochs=10,verbose=0)\n",
        "scores_model3 = m.evaluate(x_test1911_bin, y_test1911_bin)\n",
        "print(\"%s: %.2f%%\" % (m.metrics_names[1], scores_model3[1]*100))"
      ],
      "execution_count": 15,
      "outputs": [
        {
          "output_type": "stream",
          "text": [
            "341/341 [==============================] - 11s 34ms/step - loss: 1.0178 - accuracy: 0.9340\n",
            "accuracy: 93.40%\n"
          ],
          "name": "stdout"
        }
      ]
    },
    {
      "cell_type": "code",
      "metadata": {
        "id": "7EWWXmg-nREp",
        "colab_type": "code",
        "outputId": "93107a92-099d-45a8-b1d2-ef662e64e385",
        "colab": {
          "base_uri": "https://localhost:8080/",
          "height": 50
        }
      },
      "source": [
        "# 2 TCN layer\n",
        "\n",
        "history = m.fit(x_bin, y_bin, validation_data=(x_test1911_bin, y_test1911_bin), epochs=10,verbose=0)\n",
        "scores_model3 = m.evaluate(x_test1911_bin, y_test1911_bin)\n",
        "print(\"%s: %.2f%%\" % (m.metrics_names[1], scores_model3[1]*100))"
      ],
      "execution_count": 0,
      "outputs": [
        {
          "output_type": "stream",
          "text": [
            "341/341 [==============================] - 25s 74ms/step - loss: 1.0178 - accuracy: 0.9340\n",
            "accuracy: 93.40%\n"
          ],
          "name": "stdout"
        }
      ]
    },
    {
      "cell_type": "markdown",
      "metadata": {
        "id": "MCe5o4W-aE_B",
        "colab_type": "text"
      },
      "source": [
        ""
      ]
    },
    {
      "cell_type": "code",
      "metadata": {
        "id": "du2Ngp7N0yp6",
        "colab_type": "code",
        "outputId": "f80252f7-3836-4cc4-8b6a-0f5e911da038",
        "colab": {
          "base_uri": "https://localhost:8080/",
          "height": 50
        }
      },
      "source": [
        "history = m.fit(x_bin, y_bin, validation_data=(x_test1911_bin, y_test1911_bin), epochs=25,verbose=0)\n",
        "scores_model3 = m.evaluate(x_test1911_bin, y_test1911_bin)\n",
        "print(\"%s: %.2f%%\" % (m.metrics_names[1], scores_model3[1]*100))"
      ],
      "execution_count": 0,
      "outputs": [
        {
          "output_type": "stream",
          "text": [
            "341/341 [==============================] - 13s 39ms/step - loss: 1.0178 - accuracy: 0.9340\n",
            "accuracy: 93.40%\n"
          ],
          "name": "stdout"
        }
      ]
    },
    {
      "cell_type": "code",
      "metadata": {
        "id": "f0KOv4kHkbyB",
        "colab_type": "code",
        "colab": {}
      },
      "source": [
        ""
      ],
      "execution_count": 0,
      "outputs": []
    }
  ]
}