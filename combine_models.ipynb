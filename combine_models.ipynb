{
 "cells": [
  {
   "cell_type": "code",
   "execution_count": 1,
   "metadata": {},
   "outputs": [
    {
     "name": "stderr",
     "output_type": "stream",
     "text": [
      "Using TensorFlow backend.\n"
     ]
    }
   ],
   "source": [
    "import numpy as np\n",
    "import pandas as pd\n",
    "import os\n",
    "import json\n",
    "from datetime import timedelta\n",
    "from dateutil import parser\n",
    "import boto3\n",
    "import urllib.request\n",
    "import pickle as pkl\n",
    "import datetime\n",
    "import keras\n",
    "import sklearn\n",
    "from sklearn.preprocessing import MinMaxScaler\n",
    "from sklearn.metrics import classification_report\n",
    "from sklearn.model_selection import train_test_split\n",
    "from sklearn.utils import class_weight\n",
    "import tensorflow as tf\n",
    "from tensorflow.keras.models import Sequential\n",
    "from tensorflow.keras.layers import Dense, Dropout, Activation, Flatten\n",
    "from tensorflow.keras.layers import Conv1D, MaxPooling1D\n",
    "from tensorflow.keras.utils import to_categorical\n",
    "from tensorflow.keras.callbacks import EarlyStopping\n",
    "from tensorflow.keras.callbacks import ModelCheckpoint\n",
    "from keras import regularizers\n",
    "from sklearn.ensemble import VotingClassifier\n",
    "from sklearn.linear_model import LogisticRegression\n",
    "from sklearn.naive_bayes import GaussianNB\n",
    "from tcn import TCN\n",
    "from sklearn.metrics import confusion_matrix"
   ]
  },
  {
   "cell_type": "code",
   "execution_count": 58,
   "metadata": {},
   "outputs": [
    {
     "name": "stdout",
     "output_type": "stream",
     "text": [
      "C:\\Users\\eric_\\OneDrive\\Documents\\python workbooks\\FreshAir\\data\n"
     ]
    },
    {
     "data": {
      "text/plain": [
       "(90487,)"
      ]
     },
     "execution_count": 58,
     "metadata": {},
     "output_type": "execute_result"
    }
   ],
   "source": [
    "%cd \"C:\\Users\\eric_\\OneDrive\\Documents\\python workbooks\\FreshAir\\data\"\n",
    "X = pkl.load(open(\"x_master.p\", \"rb\"))\n",
    "Y = pkl.load(open(\"y_master.p\", \"rb\"))\n",
    "\n",
    "X.shape"
   ]
  },
  {
   "cell_type": "code",
   "execution_count": 40,
   "metadata": {},
   "outputs": [
    {
     "data": {
      "text/plain": [
       "(83369, 160, 4)"
      ]
     },
     "execution_count": 40,
     "metadata": {},
     "output_type": "execute_result"
    }
   ],
   "source": [
    "x_bin=[]\n",
    "y_bin=[]\n",
    "smoking_event=0\n",
    "non_smoking_event=0\n",
    "\n",
    "\n",
    "for i, y in enumerate(Y):\n",
    "  if X[i].shape == (160, 4):\n",
    "      if y in [1,2,3]:\n",
    "        y_bin.append(1)\n",
    "        x_bin.append(X[i])\n",
    "        smoking_event+=1\n",
    "      elif y >= 20:\n",
    "        y_bin.append(0)\n",
    "        x_bin.append(X[i])\n",
    "        non_smoking_event+=1\n",
    "        \n",
    "x_bin=np.array(x_bin)\n",
    "y_bin=np.array(y_bin)\n",
    "x_bin.shape"
   ]
  },
  {
   "cell_type": "code",
   "execution_count": 2,
   "metadata": {},
   "outputs": [
    {
     "name": "stdout",
     "output_type": "stream",
     "text": [
      "C:\\Users\\eric_\\OneDrive\\Documents\\python workbooks\\FreshAir\\data\\test_data\n"
     ]
    },
    {
     "data": {
      "text/plain": [
       "(12362,)"
      ]
     },
     "execution_count": 2,
     "metadata": {},
     "output_type": "execute_result"
    }
   ],
   "source": [
    "%cd \"C:\\Users\\eric_\\OneDrive\\Documents\\python workbooks\\FreshAir\\data\\test_data\"\n",
    "x_test1 = pkl.load(open(\"x_test1911.p\", \"rb\"))\n",
    "y_test1 = pkl.load(open(\"y_test1911.p\", \"rb\"))\n",
    "\n",
    "x_test1.shape"
   ]
  },
  {
   "cell_type": "code",
   "execution_count": 3,
   "metadata": {},
   "outputs": [
    {
     "data": {
      "text/plain": [
       "(10908, 160, 4)"
      ]
     },
     "execution_count": 3,
     "metadata": {},
     "output_type": "execute_result"
    }
   ],
   "source": [
    "x_test=[]\n",
    "y_test=[]\n",
    "smoking_event=0\n",
    "non_smoking_event=0\n",
    "\n",
    "\n",
    "for i, y in enumerate(y_test1):\n",
    "  if x_test1[i].shape == (160, 4):\n",
    "      if y in [1,2,3]:\n",
    "        y_test.append(1)\n",
    "        x_test.append(x_test1[i])\n",
    "        smoking_event+=1\n",
    "      elif y >= 20:\n",
    "        y_test.append(0)\n",
    "        x_test.append(x_test1[i])\n",
    "        non_smoking_event+=1\n",
    "        \n",
    "x_test=np.array(x_test)\n",
    "y_test=np.array(y_test)\n",
    "x_test.shape"
   ]
  },
  {
   "cell_type": "code",
   "execution_count": 4,
   "metadata": {},
   "outputs": [
    {
     "name": "stdout",
     "output_type": "stream",
     "text": [
      "C:\\Users\\eric_\\OneDrive\\Documents\\python workbooks\\FreshAir\\CNN model\\models\n",
      "              precision    recall  f1-score   support\n",
      "\n",
      "           0       1.00      0.88      0.93     10188\n",
      "           1       0.36      0.96      0.53       720\n",
      "\n",
      "    accuracy                           0.89     10908\n",
      "   macro avg       0.68      0.92      0.73     10908\n",
      "weighted avg       0.96      0.89      0.91     10908\n",
      "\n"
     ]
    }
   ],
   "source": [
    "%cd \"C:\\Users\\eric_\\OneDrive\\Documents\\python workbooks\\FreshAir\\CNN model\\models\"\n",
    "eric_model = tf.keras.models.load_model('model-21-0.9510.hdf5')\n",
    "pred_prob_eCNN  = eric_model.predict(x_test)\n",
    "pred_class_eCNN = []\n",
    "for i in pred_prob_eCNN:\n",
    "    if i >.05:\n",
    "        pred_class_eCNN.append(1)\n",
    "    else:\n",
    "        pred_class_eCNN.append(0)\n",
    "print(classification_report(y_test,pred_class_eCNN))\n",
    "#print(confusion_matrix(y_test,pred_class_eCNN))\n",
    "#1910 test set"
   ]
  },
  {
   "cell_type": "code",
   "execution_count": 5,
   "metadata": {},
   "outputs": [
    {
     "name": "stdout",
     "output_type": "stream",
     "text": [
      "C:\\Users\\eric_\\OneDrive\\Documents\\python workbooks\\FreshAir\\Veena's models\n",
      "              precision    recall  f1-score   support\n",
      "\n",
      "           0       0.97      0.98      0.98     10188\n",
      "           1       0.66      0.64      0.65       720\n",
      "\n",
      "    accuracy                           0.95     10908\n",
      "   macro avg       0.82      0.81      0.81     10908\n",
      "weighted avg       0.95      0.95      0.95     10908\n",
      "\n"
     ]
    }
   ],
   "source": [
    "%cd \"C:\\Users\\eric_\\OneDrive\\Documents\\python workbooks\\FreshAir\\Veena's models\"\n",
    "veena_model = tf.keras.models.load_model('Model_VGG_FReshAir.h5')\n",
    "pred_prob_vCNN  = veena_model.predict(x_test)\n",
    "pred_class_vCNN = []\n",
    "for i in pred_prob_vCNN:\n",
    "    if i >.05:\n",
    "        pred_class_vCNN.append(1)\n",
    "    else:\n",
    "        pred_class_vCNN.append(0)\n",
    "print(classification_report(y_test,pred_class_vCNN))\n",
    "#1910 test set"
   ]
  },
  {
   "cell_type": "code",
   "execution_count": 6,
   "metadata": {},
   "outputs": [
    {
     "name": "stdout",
     "output_type": "stream",
     "text": [
      "C:\\Users\\eric_\\OneDrive\\Documents\\python workbooks\\FreshAir\\RNN Fresh air\n",
      "              precision    recall  f1-score   support\n",
      "\n",
      "           0       1.00      0.92      0.96     10188\n",
      "           1       0.46      0.94      0.61       720\n",
      "\n",
      "    accuracy                           0.92     10908\n",
      "   macro avg       0.73      0.93      0.78     10908\n",
      "weighted avg       0.96      0.92      0.93     10908\n",
      "\n"
     ]
    }
   ],
   "source": [
    "%cd \"C:\\Users\\eric_\\OneDrive\\Documents\\python workbooks\\FreshAir\\RNN Fresh air\"\n",
    "josh_model = tf.keras.models.load_model('model_rd5_3blocks_-05-0.9830.hdf5')\n",
    "josh_pred = josh_model.predict(x_test)\n",
    "pred_class_josh = []\n",
    "for i in josh_pred:\n",
    "    if i >.05:\n",
    "        pred_class_josh.append(1)\n",
    "    else:\n",
    "        pred_class_josh.append(0)\n",
    "print(classification_report(y_test,pred_class_josh))\n",
    "#1910 test set"
   ]
  },
  {
   "cell_type": "code",
   "execution_count": 7,
   "metadata": {},
   "outputs": [
    {
     "name": "stdout",
     "output_type": "stream",
     "text": [
      "C:\\Users\\eric_\\OneDrive\\Documents\\python workbooks\\FreshAir\\RNN Fresh air\n",
      "              precision    recall  f1-score   support\n",
      "\n",
      "           0       1.00      0.83      0.91     10188\n",
      "           1       0.29      0.98      0.45       720\n",
      "\n",
      "    accuracy                           0.84     10908\n",
      "   macro avg       0.65      0.91      0.68     10908\n",
      "weighted avg       0.95      0.84      0.88     10908\n",
      "\n",
      "[[8486 1702]\n",
      " [  12  708]]\n"
     ]
    }
   ],
   "source": [
    "%cd \"C:\\Users\\eric_\\OneDrive\\Documents\\python workbooks\\FreshAir\\RNN Fresh air\"\n",
    "josh_model1 = tf.keras.models.load_model('model_rd5_3blocks_lstm100_-02-0.9731.hdf5')\n",
    "josh_pred1 = josh_model1.predict(x_test)\n",
    "pred_class_josh1 = []\n",
    "for i in josh_pred1:\n",
    "    if i >.05:\n",
    "        pred_class_josh1.append(1)\n",
    "    else:\n",
    "        pred_class_josh1.append(0)\n",
    "print(classification_report(y_test,pred_class_josh1))\n",
    "print(confusion_matrix(y_test,pred_class_josh1))\n",
    "#1910 test set"
   ]
  },
  {
   "cell_type": "code",
   "execution_count": 8,
   "metadata": {},
   "outputs": [
    {
     "name": "stdout",
     "output_type": "stream",
     "text": [
      "C:\\Users\\eric_\\OneDrive\\Documents\\python workbooks\\FreshAir\\Veena's models\n",
      "              precision    recall  f1-score   support\n",
      "\n",
      "           0       0.99      0.96      0.97     10188\n",
      "           1       0.58      0.84      0.68       720\n",
      "\n",
      "    accuracy                           0.95     10908\n",
      "   macro avg       0.78      0.90      0.83     10908\n",
      "weighted avg       0.96      0.95      0.95     10908\n",
      "\n"
     ]
    }
   ],
   "source": [
    "%cd \"C:\\Users\\eric_\\OneDrive\\Documents\\python workbooks\\FreshAir\\Veena's models\"\n",
    "tcn = tf.keras.models.load_model('Model_TCN_freshAir.h5', custom_objects={'TCN': TCN})\n",
    "pred_tcn = tcn.predict(x_test)\n",
    "pred_class_tcn = []\n",
    "for i in pred_tcn:\n",
    "    if i >.05:\n",
    "        pred_class_tcn.append(1)\n",
    "    else:\n",
    "        pred_class_tcn.append(0)\n",
    "print(classification_report(y_test,pred_class_tcn))\n",
    "#1910 test set"
   ]
  },
  {
   "cell_type": "code",
   "execution_count": 9,
   "metadata": {},
   "outputs": [],
   "source": [
    "predictions = (josh_pred + josh_pred1 + pred_prob_eCNN + pred_tcn +  pred_prob_vCNN)/5"
   ]
  },
  {
   "cell_type": "code",
   "execution_count": 10,
   "metadata": {},
   "outputs": [],
   "source": [
    "pred_class = []\n",
    "for i in predictions:\n",
    "    if i >.05:\n",
    "        pred_class.append(1)\n",
    "    else:\n",
    "        pred_class.append(0)"
   ]
  },
  {
   "cell_type": "code",
   "execution_count": 129,
   "metadata": {},
   "outputs": [
    {
     "name": "stdout",
     "output_type": "stream",
     "text": [
      "              precision    recall  f1-score   support\n",
      "\n",
      "           0       1.00      0.87      0.93     10188\n",
      "           1       0.35      0.99      0.52       720\n",
      "\n",
      "    accuracy                           0.88     10908\n",
      "   macro avg       0.68      0.93      0.73     10908\n",
      "weighted avg       0.96      0.88      0.90     10908\n",
      "\n",
      "[[8882 1306]\n",
      " [  10  710]]\n"
     ]
    }
   ],
   "source": [
    "print(classification_report(y_test,pred_class))\n",
    "print(confusion_matrix(y_test,pred_class))"
   ]
  },
  {
   "cell_type": "code",
   "execution_count": 11,
   "metadata": {},
   "outputs": [],
   "source": [
    "pred_hard = np.array(pred_class_josh1).reshape(10908,1) + np.array(pred_class_eCNN).reshape(10908,1) +  np.array(pred_class_tcn).reshape(10908,1)\n",
    "pred_y_hard = []\n",
    "for i in pred_hard:\n",
    "    if i >= 2:\n",
    "        pred_y_hard.append(1)\n",
    "    else:\n",
    "        pred_y_hard.append(0)"
   ]
  },
  {
   "cell_type": "code",
   "execution_count": 12,
   "metadata": {},
   "outputs": [
    {
     "name": "stdout",
     "output_type": "stream",
     "text": [
      "              precision    recall  f1-score   support\n",
      "\n",
      "           0       1.00      0.90      0.95     10188\n",
      "           1       0.40      0.97      0.57       720\n",
      "\n",
      "    accuracy                           0.90     10908\n",
      "   macro avg       0.70      0.93      0.76     10908\n",
      "weighted avg       0.96      0.90      0.92     10908\n",
      "\n",
      "[[9162 1026]\n",
      " [  25  695]]\n"
     ]
    }
   ],
   "source": [
    "print(classification_report(y_test,pred_y_hard))\n",
    "print(confusion_matrix(y_test, pred_y_hard))"
   ]
  },
  {
   "cell_type": "code",
   "execution_count": 47,
   "metadata": {},
   "outputs": [
    {
     "data": {
      "text/html": [
       "<div>\n",
       "<style scoped>\n",
       "    .dataframe tbody tr th:only-of-type {\n",
       "        vertical-align: middle;\n",
       "    }\n",
       "\n",
       "    .dataframe tbody tr th {\n",
       "        vertical-align: top;\n",
       "    }\n",
       "\n",
       "    .dataframe thead th {\n",
       "        text-align: right;\n",
       "    }\n",
       "</style>\n",
       "<table border=\"1\" class=\"dataframe\">\n",
       "  <thead>\n",
       "    <tr style=\"text-align: right;\">\n",
       "      <th></th>\n",
       "      <th>y</th>\n",
       "      <th>josh1</th>\n",
       "      <th>josh2</th>\n",
       "      <th>eCNN</th>\n",
       "      <th>tcn</th>\n",
       "      <th>vCNN</th>\n",
       "    </tr>\n",
       "  </thead>\n",
       "  <tbody>\n",
       "    <tr>\n",
       "      <th>0</th>\n",
       "      <td>1.0</td>\n",
       "      <td>0.581738</td>\n",
       "      <td>0.915239</td>\n",
       "      <td>0.997634</td>\n",
       "      <td>0.814264</td>\n",
       "      <td>0.964565</td>\n",
       "    </tr>\n",
       "    <tr>\n",
       "      <th>1</th>\n",
       "      <td>1.0</td>\n",
       "      <td>0.943150</td>\n",
       "      <td>0.995341</td>\n",
       "      <td>0.999982</td>\n",
       "      <td>0.873560</td>\n",
       "      <td>0.964565</td>\n",
       "    </tr>\n",
       "    <tr>\n",
       "      <th>2</th>\n",
       "      <td>1.0</td>\n",
       "      <td>0.124632</td>\n",
       "      <td>0.754291</td>\n",
       "      <td>0.989980</td>\n",
       "      <td>0.536143</td>\n",
       "      <td>0.964565</td>\n",
       "    </tr>\n",
       "    <tr>\n",
       "      <th>3</th>\n",
       "      <td>1.0</td>\n",
       "      <td>0.843354</td>\n",
       "      <td>0.989118</td>\n",
       "      <td>0.999670</td>\n",
       "      <td>0.497567</td>\n",
       "      <td>0.964565</td>\n",
       "    </tr>\n",
       "    <tr>\n",
       "      <th>4</th>\n",
       "      <td>1.0</td>\n",
       "      <td>0.788203</td>\n",
       "      <td>0.930470</td>\n",
       "      <td>0.991946</td>\n",
       "      <td>0.348423</td>\n",
       "      <td>1.000000</td>\n",
       "    </tr>\n",
       "  </tbody>\n",
       "</table>\n",
       "</div>"
      ],
      "text/plain": [
       "     y     josh1     josh2      eCNN       tcn      vCNN\n",
       "0  1.0  0.581738  0.915239  0.997634  0.814264  0.964565\n",
       "1  1.0  0.943150  0.995341  0.999982  0.873560  0.964565\n",
       "2  1.0  0.124632  0.754291  0.989980  0.536143  0.964565\n",
       "3  1.0  0.843354  0.989118  0.999670  0.497567  0.964565\n",
       "4  1.0  0.788203  0.930470  0.991946  0.348423  1.000000"
      ]
     },
     "execution_count": 47,
     "metadata": {},
     "output_type": "execute_result"
    }
   ],
   "source": [
    "log_reg_data = pd.DataFrame(np.concatenate([y_bin.reshape(83369,1), josh_pred,josh_pred1, pred_prob_eCNN, \n",
    "                                           pred_tcn,pred_prob_vCNN], axis = 1),\n",
    "                            columns = ['y', 'josh1', 'josh2', 'eCNN', 'tcn','vCNN'])\n",
    "log_reg_data.head()"
   ]
  },
  {
   "cell_type": "code",
   "execution_count": 48,
   "metadata": {},
   "outputs": [
    {
     "data": {
      "text/plain": [
       "(75032, 5)"
      ]
     },
     "execution_count": 48,
     "metadata": {},
     "output_type": "execute_result"
    }
   ],
   "source": [
    "x_train, x_test, y_train, y_test = train_test_split(log_reg_data.iloc[:,1:6], log_reg_data['y'], test_size=0.1, random_state = 99)\n",
    "x_train.shape"
   ]
  },
  {
   "cell_type": "code",
   "execution_count": 49,
   "metadata": {},
   "outputs": [
    {
     "name": "stdout",
     "output_type": "stream",
     "text": [
      "              precision    recall  f1-score   support\n",
      "\n",
      "         0.0       1.00      1.00      1.00      8031\n",
      "         1.0       0.98      0.98      0.98       306\n",
      "\n",
      "    accuracy                           1.00      8337\n",
      "   macro avg       0.99      0.99      0.99      8337\n",
      "weighted avg       1.00      1.00      1.00      8337\n",
      "\n"
     ]
    }
   ],
   "source": [
    "log_reg = LogisticRegression(class_weight ={0: 1, 1: 30}, max_iter = 100).fit(x_train, y_train)\n",
    "pred_log = log_reg.predict(x_test)\n",
    "print(classification_report(y_test,pred_log))"
   ]
  },
  {
   "cell_type": "code",
   "execution_count": 50,
   "metadata": {},
   "outputs": [
    {
     "name": "stdout",
     "output_type": "stream",
     "text": [
      "              precision    recall  f1-score   support\n",
      "\n",
      "         0.0       1.00      0.99      1.00      8031\n",
      "         1.0       0.86      0.98      0.92       306\n",
      "\n",
      "    accuracy                           0.99      8337\n",
      "   macro avg       0.93      0.99      0.96      8337\n",
      "weighted avg       0.99      0.99      0.99      8337\n",
      "\n"
     ]
    }
   ],
   "source": [
    "nb_mod = GaussianNB().fit(x_train, y_train)\n",
    "pred_nb = nb_mod.predict(x_test)\n",
    "print(classification_report(y_test,pred_nb))"
   ]
  },
  {
   "cell_type": "code",
   "execution_count": 51,
   "metadata": {},
   "outputs": [
    {
     "name": "stdout",
     "output_type": "stream",
     "text": [
      "C:\\Users\\eric_\\OneDrive\\Documents\\python workbooks\\FreshAir\\data\\test_data\n"
     ]
    },
    {
     "data": {
      "text/plain": [
       "(13362,)"
      ]
     },
     "execution_count": 51,
     "metadata": {},
     "output_type": "execute_result"
    }
   ],
   "source": [
    "%cd \"C:\\Users\\eric_\\OneDrive\\Documents\\python workbooks\\FreshAir\\data\\test_data\"\n",
    "x_test1 = pkl.load(open(\"x_test.p\", \"rb\"))\n",
    "y_test1 = pkl.load(open(\"y_test.p\", \"rb\"))\n",
    "\n",
    "x_test1.shape"
   ]
  },
  {
   "cell_type": "code",
   "execution_count": 52,
   "metadata": {},
   "outputs": [
    {
     "data": {
      "text/plain": [
       "(11655, 160, 4)"
      ]
     },
     "execution_count": 52,
     "metadata": {},
     "output_type": "execute_result"
    }
   ],
   "source": [
    "x_test=[]\n",
    "y_test=[]\n",
    "smoking_event=0\n",
    "non_smoking_event=0\n",
    "\n",
    "\n",
    "for i, y in enumerate(y_test1):\n",
    "  if x_test1[i].shape == (160, 4):\n",
    "      if y in [1,2,3]:\n",
    "        y_test.append(1)\n",
    "        x_test.append(x_test1[i])\n",
    "        smoking_event+=1\n",
    "      elif y >= 20:\n",
    "        y_test.append(0)\n",
    "        x_test.append(x_test1[i])\n",
    "        non_smoking_event+=1\n",
    "        \n",
    "x_test=np.array(x_test)\n",
    "y_test=np.array(y_test)\n",
    "x_test.shape"
   ]
  },
  {
   "cell_type": "code",
   "execution_count": 53,
   "metadata": {},
   "outputs": [],
   "source": [
    "eCNN_test  = eric_model.predict(x_test)\n",
    "vCNN_test  = veena_model.predict(x_test)\n",
    "josh_test = josh_model.predict(x_test)\n",
    "tcn_test = tcn.predict(x_test)\n",
    "josh1_test = josh_model1.predict(x_test)"
   ]
  },
  {
   "cell_type": "code",
   "execution_count": 54,
   "metadata": {},
   "outputs": [
    {
     "data": {
      "text/html": [
       "<div>\n",
       "<style scoped>\n",
       "    .dataframe tbody tr th:only-of-type {\n",
       "        vertical-align: middle;\n",
       "    }\n",
       "\n",
       "    .dataframe tbody tr th {\n",
       "        vertical-align: top;\n",
       "    }\n",
       "\n",
       "    .dataframe thead th {\n",
       "        text-align: right;\n",
       "    }\n",
       "</style>\n",
       "<table border=\"1\" class=\"dataframe\">\n",
       "  <thead>\n",
       "    <tr style=\"text-align: right;\">\n",
       "      <th></th>\n",
       "      <th>y</th>\n",
       "      <th>josh1</th>\n",
       "      <th>josh2</th>\n",
       "      <th>eCNN</th>\n",
       "      <th>tcn</th>\n",
       "      <th>vCNN</th>\n",
       "    </tr>\n",
       "  </thead>\n",
       "  <tbody>\n",
       "    <tr>\n",
       "      <th>0</th>\n",
       "      <td>1.0</td>\n",
       "      <td>0.952438</td>\n",
       "      <td>0.994090</td>\n",
       "      <td>0.988405</td>\n",
       "      <td>9.789606e-01</td>\n",
       "      <td>0.000000e+00</td>\n",
       "    </tr>\n",
       "    <tr>\n",
       "      <th>1</th>\n",
       "      <td>1.0</td>\n",
       "      <td>0.961327</td>\n",
       "      <td>0.995621</td>\n",
       "      <td>0.999795</td>\n",
       "      <td>6.332150e-01</td>\n",
       "      <td>9.645648e-01</td>\n",
       "    </tr>\n",
       "    <tr>\n",
       "      <th>2</th>\n",
       "      <td>1.0</td>\n",
       "      <td>0.410717</td>\n",
       "      <td>0.942434</td>\n",
       "      <td>0.985313</td>\n",
       "      <td>4.420663e-01</td>\n",
       "      <td>2.086163e-07</td>\n",
       "    </tr>\n",
       "    <tr>\n",
       "      <th>3</th>\n",
       "      <td>1.0</td>\n",
       "      <td>0.920080</td>\n",
       "      <td>0.967026</td>\n",
       "      <td>0.999885</td>\n",
       "      <td>3.306146e-01</td>\n",
       "      <td>0.000000e+00</td>\n",
       "    </tr>\n",
       "    <tr>\n",
       "      <th>4</th>\n",
       "      <td>1.0</td>\n",
       "      <td>0.000746</td>\n",
       "      <td>0.007206</td>\n",
       "      <td>0.001492</td>\n",
       "      <td>5.960464e-08</td>\n",
       "      <td>0.000000e+00</td>\n",
       "    </tr>\n",
       "  </tbody>\n",
       "</table>\n",
       "</div>"
      ],
      "text/plain": [
       "     y     josh1     josh2      eCNN           tcn          vCNN\n",
       "0  1.0  0.952438  0.994090  0.988405  9.789606e-01  0.000000e+00\n",
       "1  1.0  0.961327  0.995621  0.999795  6.332150e-01  9.645648e-01\n",
       "2  1.0  0.410717  0.942434  0.985313  4.420663e-01  2.086163e-07\n",
       "3  1.0  0.920080  0.967026  0.999885  3.306146e-01  0.000000e+00\n",
       "4  1.0  0.000746  0.007206  0.001492  5.960464e-08  0.000000e+00"
      ]
     },
     "execution_count": 54,
     "metadata": {},
     "output_type": "execute_result"
    }
   ],
   "source": [
    "log_reg_test = pd.DataFrame(np.concatenate([y_test.reshape(11655,1),josh_test,josh1_test,eCNN_test, \n",
    "                                           tcn_test, vCNN_test], axis = 1),\n",
    "                            columns = ['y', 'josh1', 'josh2', 'eCNN', 'tcn','vCNN'])\n",
    "log_reg_test.head()"
   ]
  },
  {
   "cell_type": "code",
   "execution_count": 55,
   "metadata": {},
   "outputs": [
    {
     "name": "stdout",
     "output_type": "stream",
     "text": [
      "              precision    recall  f1-score   support\n",
      "\n",
      "           0       0.96      0.98      0.97     10591\n",
      "           1       0.72      0.63      0.67      1064\n",
      "\n",
      "    accuracy                           0.94     11655\n",
      "   macro avg       0.84      0.80      0.82     11655\n",
      "weighted avg       0.94      0.94      0.94     11655\n",
      "\n"
     ]
    }
   ],
   "source": [
    "pred_log = log_reg.predict_proba(np.array(log_reg_test.iloc[:,1:6]))\n",
    "pred_class_log = []\n",
    "for i in pred_log[:,1]:\n",
    "    if i >.5:\n",
    "        pred_class_log.append(1)\n",
    "    else:\n",
    "        pred_class_log.append(0)\n",
    "print(classification_report(y_test,pred_class_log))"
   ]
  },
  {
   "cell_type": "code",
   "execution_count": 56,
   "metadata": {},
   "outputs": [
    {
     "name": "stdout",
     "output_type": "stream",
     "text": [
      "              precision    recall  f1-score   support\n",
      "\n",
      "           0       0.98      0.97      0.97     10591\n",
      "           1       0.71      0.81      0.76      1064\n",
      "\n",
      "    accuracy                           0.95     11655\n",
      "   macro avg       0.84      0.89      0.87     11655\n",
      "weighted avg       0.96      0.95      0.95     11655\n",
      "\n"
     ]
    }
   ],
   "source": [
    "pred_nb_test = nb_mod.predict_proba(np.array(log_reg_test.iloc[:,1:6]))\n",
    "pred_class_nb = []\n",
    "for i in pred_nb_test[:,1]:\n",
    "    if i >.5:\n",
    "        pred_class_nb.append(1)\n",
    "    else:\n",
    "        pred_class_nb.append(0)\n",
    "print(classification_report(y_test,pred_class_nb))"
   ]
  },
  {
   "cell_type": "code",
   "execution_count": 53,
   "metadata": {},
   "outputs": [
    {
     "data": {
      "text/plain": [
       "array([1.00000000e+00, 1.00000000e+00, 1.00000000e+00, ...,\n",
       "       3.03476172e-70, 2.59225025e-70, 2.57744106e-70])"
      ]
     },
     "execution_count": 53,
     "metadata": {},
     "output_type": "execute_result"
    }
   ],
   "source": [
    "pred_nb_test[:,1]"
   ]
  },
  {
   "cell_type": "code",
   "execution_count": 48,
   "metadata": {},
   "outputs": [
    {
     "data": {
      "text/plain": [
       "array([1., 1., 1., ..., 0., 0., 0.])"
      ]
     },
     "execution_count": 48,
     "metadata": {},
     "output_type": "execute_result"
    }
   ],
   "source": [
    "pred_nb_test"
   ]
  },
  {
   "cell_type": "code",
   "execution_count": null,
   "metadata": {},
   "outputs": [],
   "source": []
  }
 ],
 "metadata": {
  "kernelspec": {
   "display_name": "Python 3",
   "language": "python",
   "name": "python3"
  },
  "language_info": {
   "codemirror_mode": {
    "name": "ipython",
    "version": 3
   },
   "file_extension": ".py",
   "mimetype": "text/x-python",
   "name": "python",
   "nbconvert_exporter": "python",
   "pygments_lexer": "ipython3",
   "version": "3.7.3"
  }
 },
 "nbformat": 4,
 "nbformat_minor": 4
}
